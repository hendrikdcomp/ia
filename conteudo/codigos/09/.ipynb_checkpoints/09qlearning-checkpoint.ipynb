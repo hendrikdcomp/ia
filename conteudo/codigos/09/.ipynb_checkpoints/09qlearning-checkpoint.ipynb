{
 "cells": [
  {
   "cell_type": "markdown",
   "metadata": {},
   "source": [
    "# Aprendizagem por reforço"
   ]
  },
  {
   "cell_type": "markdown",
   "metadata": {},
   "source": [
    "## Descrição do ambiente"
   ]
  },
  {
   "cell_type": "markdown",
   "metadata": {},
   "source": [
    "**sequential_decision_environment** está descrito na figura 17.1 do livro-texto."
   ]
  },
  {
   "cell_type": "code",
   "execution_count": 4,
   "metadata": {},
   "outputs": [],
   "source": [
    "from mdp import sequential_decision_environment"
   ]
  },
  {
   "cell_type": "markdown",
   "metadata": {},
   "source": [
    "## Agente MDP"
   ]
  },
  {
   "cell_type": "markdown",
   "metadata": {},
   "source": [
    "Resultados do <i>Value Iteration</i> para o ambiente em questão."
   ]
  },
  {
   "cell_type": "code",
   "execution_count": 5,
   "metadata": {},
   "outputs": [
    {
     "name": "stdout",
     "output_type": "stream",
     "text": [
      "{(0, 1): 0.3984432178350045, (1, 2): 0.649585681261095, (2, 1): 0.48644001739269643, (0, 0): 0.2962883154554812, (3, 1): -1.0, (2, 0): 0.3447542300124158, (3, 0): 0.12987274656746342, (0, 2): 0.5093943765842497, (2, 2): 0.7953620878466678, (1, 0): 0.25386699846479516, (3, 2): 1.0}\n"
     ]
    }
   ],
   "source": [
    "from mdp import value_iteration\n",
    "print(value_iteration(sequential_decision_environment))"
   ]
  },
  {
   "cell_type": "markdown",
   "metadata": {},
   "source": [
    "## Agente Q-Learning\n",
    "\n",
    "Método livre de modelo. Aprende-se uma função Q(s, a) que retorna a utilidade (recompensa) de se tomar uma determinada ação a a partir de um estado particular s."
   ]
  },
  {
   "cell_type": "code",
   "execution_count": 6,
   "metadata": {},
   "outputs": [],
   "source": [
    "from collections import defaultdict\n",
    "from utils import argmax\n",
    "from mdp import MDP, policy_evaluation\n",
    "\n",
    "import random\n",
    "\n",
    "\n",
    "class QLearningAgent:\n",
    "    \"\"\" An exploratory Q-learning agent. It avoids having to learn the transition\n",
    "        model because the Q-value of a state can be related directly to those of\n",
    "        its neighbors. [Figure 21.8]\n",
    "    \"\"\"\n",
    "    def __init__(self, mdp, Ne, Rplus, alpha=None):\n",
    "\n",
    "        self.gamma = mdp.gamma\n",
    "        self.terminals = mdp.terminals\n",
    "        self.all_act = mdp.actlist\n",
    "        self.Ne = Ne  # iteration limit in exploration function\n",
    "        self.Rplus = Rplus  # large value to assign before iteration limit\n",
    "        self.Q = defaultdict(float)\n",
    "        self.Nsa = defaultdict(float)\n",
    "        self.s = None\n",
    "        self.a = None\n",
    "        self.r = None\n",
    "\n",
    "        if alpha:\n",
    "            self.alpha = alpha\n",
    "        else:\n",
    "            self.alpha = lambda n: 1./(1+n)  # udacity video\n",
    "\n",
    "    def f(self, u, n):\n",
    "        \"\"\" Exploration function. Returns fixed Rplus untill\n",
    "        agent has visited state, action a Ne number of times.\n",
    "        Same as ADP agent in book.\"\"\"\n",
    "        if n < self.Ne:\n",
    "            return self.Rplus\n",
    "        else:\n",
    "            return u\n",
    "\n",
    "    def actions_in_state(self, state):\n",
    "        \"\"\" Returns actions possible in given state.\n",
    "            Useful for max and argmax. \"\"\"\n",
    "        if state in self.terminals:\n",
    "            return [None]\n",
    "        else:\n",
    "            return self.all_act\n",
    "\n",
    "    def __call__(self, percept):\n",
    "        s1, r1 = self.update_state(percept)\n",
    "        Q, Nsa, s, a, r = self.Q, self.Nsa, self.s, self.a, self.r\n",
    "        alpha, gamma, terminals, actions_in_state = self.alpha, self.gamma, self.terminals, self.actions_in_state\n",
    "        if s1 in terminals:\n",
    "            Q[s1, None] = r1\n",
    "        if s is not None:\n",
    "            Nsa[s, a] += 1\n",
    "            Q[s, a] += alpha(Nsa[s, a]) * (r + gamma * max(Q[s1, a1] for a1 in actions_in_state(s1))\n",
    "                                             - Q[s, a])\n",
    "        if s1 in terminals:\n",
    "            self.s = self.a = self.r = None\n",
    "        else:\n",
    "            self.s, self.r = s1, r1\n",
    "            self.a = argmax(actions_in_state(s1), key=lambda a1: self.f(Q[s1, a1], Nsa[s1, a1]))\n",
    "        return self.a\n",
    "\n",
    "    def update_state(self, percept):\n",
    "        ''' To be overridden in most cases. The default case\n",
    "        assumes the percept to be of type (state, reward)'''\n",
    "        return percept\n",
    "\n",
    "\n",
    "def run_single_trial(agent_program, mdp):\n",
    "    ''' Execute trial for given agent_program\n",
    "    and mdp. mdp should be an instance of subclass\n",
    "    of mdp.MDP '''\n",
    "\n",
    "    def take_single_action(mdp, s, a):\n",
    "        '''\n",
    "        Selects outcome of taking action a\n",
    "        in state s. Weighted Sampling.\n",
    "        '''\n",
    "        x = random.uniform(0, 1)\n",
    "        cumulative_probability = 0.0\n",
    "        for probability_state in mdp.T(s, a):\n",
    "            probability, state = probability_state\n",
    "            cumulative_probability += probability\n",
    "            if x < cumulative_probability:\n",
    "                break\n",
    "        return state\n",
    "\n",
    "    current_state = mdp.init\n",
    "    while True:\n",
    "        current_reward = mdp.R(current_state)\n",
    "        percept = (current_state, current_reward)\n",
    "        next_action = agent_program(percept)\n",
    "        if next_action is None:\n",
    "            break\n",
    "        current_state = take_single_action(mdp, current_state, next_action)"
   ]
  },
  {
   "cell_type": "markdown",
   "metadata": {},
   "source": [
    "Fator de desconto **gamma = 0.9**. Função de exploração (exploration) **f** que retorna **Rplus** fixa até o limite de **Ne** número de vezes (veja pg **842** do livro). O método **actions_in_state** retorna ações possíveis num dado estado. O valor de **alpha** está definido no rodapé da página 837. Valores de **Rplus** e **Ne** são os definidos na página 843 (Fig 21.7)."
   ]
  },
  {
   "cell_type": "code",
   "execution_count": 7,
   "metadata": {},
   "outputs": [],
   "source": [
    "q_agent = QLearningAgent(sequential_decision_environment, Ne=5, Rplus=2, \n",
    "                         alpha=lambda n: 60./(59+n))\n"
   ]
  },
  {
   "cell_type": "markdown",
   "metadata": {},
   "source": [
    "Executando o q_agent por **500** iterações e mostrando os Q-Values gerados. As chaves são pares estado-ação. As ações são: norte = (0, 1), sul = (0,-1), oeste = (-1, 0) e leste = (1, 0)."
   ]
  },
  {
   "cell_type": "code",
   "execution_count": 8,
   "metadata": {},
   "outputs": [
    {
     "data": {
      "text/plain": [
       "defaultdict(float,\n",
       "            {((0, 0), (1, 0)): 0.029353122943482867,\n",
       "             ((0, 0), (0, 1)): -0.12605389383062632,\n",
       "             ((0, 0), (-1, 0)): -0.12953971401732597,\n",
       "             ((0, 0), (0, -1)): -0.12811188414969485,\n",
       "             ((1, 0), (1, 0)): 0.002078389016784887,\n",
       "             ((1, 0), (0, 1)): -0.10312830387795988,\n",
       "             ((1, 0), (-1, 0)): -0.1033112255275132,\n",
       "             ((1, 0), (0, -1)): -0.12631814957654425,\n",
       "             ((2, 0), (1, 0)): -0.1502201568303818,\n",
       "             ((2, 0), (0, 1)): 0.025943548719895376,\n",
       "             ((2, 0), (-1, 0)): -0.15003320350032823,\n",
       "             ((2, 0), (0, -1)): -0.13255775028778732,\n",
       "             ((3, 0), (1, 0)): -0.3382861488997598,\n",
       "             ((3, 0), (0, 1)): -0.9399985835159025,\n",
       "             ((3, 0), (-1, 0)): -0.5252065109211145,\n",
       "             ((3, 0), (0, -1)): -0.12526820046134143,\n",
       "             ((3, 1), None): -1,\n",
       "             ((2, 1), (1, 0)): -0.9400000000000001,\n",
       "             ((2, 1), (0, 1)): -0.8149647723382089,\n",
       "             ((2, 1), (-1, 0)): 0.13810900203444568,\n",
       "             ((2, 1), (0, -1)): -0.8514322125100608,\n",
       "             ((0, 1), (1, 0)): -0.04,\n",
       "             ((0, 1), (0, 1)): 0.4289556884303835,\n",
       "             ((0, 1), (-1, 0)): 0.13356133875304718,\n",
       "             ((0, 1), (0, -1)): -0.14081009920000898,\n",
       "             ((0, 2), (1, 0)): 0.5593020707094863,\n",
       "             ((0, 2), (0, 1)): 0.2800081714231157,\n",
       "             ((0, 2), (-1, 0)): 0.2800017499513752,\n",
       "             ((0, 2), (0, -1)): 0.23532169196010444,\n",
       "             ((1, 2), (1, 0)): 0.6244041775123447,\n",
       "             ((1, 2), (0, 1)): 0.2338257477859131,\n",
       "             ((1, 2), (-1, 0)): 0.24109722334069064,\n",
       "             ((1, 2), (0, -1)): 0.221509051661434,\n",
       "             ((2, 2), (1, 0)): 0.7877623207831911,\n",
       "             ((2, 2), (0, 1)): 0.35219192844273167,\n",
       "             ((2, 2), (-1, 0)): 0.37593072978084774,\n",
       "             ((2, 2), (0, -1)): 0.36401513909582006,\n",
       "             ((3, 2), None): 1})"
      ]
     },
     "execution_count": 8,
     "metadata": {},
     "output_type": "execute_result"
    }
   ],
   "source": [
    "for i in range(500):\n",
    "    run_single_trial(q_agent,sequential_decision_environment)\n",
    "q_agent.Q"
   ]
  },
  {
   "cell_type": "markdown",
   "metadata": {},
   "source": [
    "A utilidade (recompensa) **U** de cada estado está relacionada à **Q** pela seguinte equação: **U (s) = max <sub>a</sub> Q(s, a)**. <br>Convertendo então Q-values em estimativas U..."
   ]
  },
  {
   "cell_type": "code",
   "execution_count": 9,
   "metadata": {},
   "outputs": [
    {
     "data": {
      "text/plain": [
       "defaultdict(<function __main__.<lambda>()>,\n",
       "            {(0, 0): 0.029353122943482867,\n",
       "             (1, 0): 0.002078389016784887,\n",
       "             (2, 0): 0.025943548719895376,\n",
       "             (3, 0): -0.12526820046134143,\n",
       "             (3, 1): -1,\n",
       "             (2, 1): 0.13810900203444568,\n",
       "             (0, 1): 0.4289556884303835,\n",
       "             (0, 2): 0.5593020707094863,\n",
       "             (1, 2): 0.6244041775123447,\n",
       "             (2, 2): 0.7877623207831911,\n",
       "             (3, 2): 1})"
      ]
     },
     "execution_count": 9,
     "metadata": {},
     "output_type": "execute_result"
    }
   ],
   "source": [
    "U = defaultdict(lambda: -1000.) # Very Large Negative Value for Comparison see below.\n",
    "for state_action, value in q_agent.Q.items():\n",
    "    state, action = state_action\n",
    "    if U[state] < value:\n",
    "        U[state] = value\n",
    "U"
   ]
  },
  {
   "cell_type": "markdown",
   "metadata": {},
   "source": [
    "OBS: essas estimativas com os resultados do <i>Value Iteration</i> lá em cima..."
   ]
  },
  {
   "cell_type": "markdown",
   "metadata": {},
   "source": [
    "### Como essas estimativas variam ao longo do tempo? Podemos plotar..."
   ]
  },
  {
   "cell_type": "code",
   "execution_count": 10,
   "metadata": {},
   "outputs": [],
   "source": [
    "%matplotlib inline\n",
    "import matplotlib.pyplot as plt\n",
    "\n",
    "def graph_utility_estimates(agent_program, mdp, no_of_iterations, states_to_graph):\n",
    "    graphs = {state:[] for state in states_to_graph}\n",
    "    for iteration in range(1,no_of_iterations+1):\n",
    "        run_single_trial(agent_program, mdp)\n",
    "        U = defaultdict(lambda: -1000.) # Very Large Negative Value for Comparison see below.\n",
    "        for state_action, value in q_agent.Q.items():\n",
    "            state, action = state_action\n",
    "            if U[state] < value:\n",
    "                U[state] = value\n",
    "        for state in states_to_graph:\n",
    "            graphs[state].append((iteration, U[state]))\n",
    "    for state, value in graphs.items():\n",
    "        state_x, state_y = zip(*value)\n",
    "        plt.plot(state_x, state_y, label=str(state))\n",
    "    plt.ylim([0,1.2])\n",
    "    plt.legend(loc='lower right')\n",
    "    plt.xlabel('Iterations')\n",
    "    plt.ylabel('U')"
   ]
  },
  {
   "cell_type": "markdown",
   "metadata": {},
   "source": [
    "#### Plotagem da variação para os estados (0,2), (2,1), (2,2) para 200 iterações..."
   ]
  },
  {
   "cell_type": "code",
   "execution_count": 11,
   "metadata": {
    "scrolled": true
   },
   "outputs": [
    {
     "data": {
      "image/png": "[encoded data removed]",
      "text/plain": [
       "<Figure size 432x288 with 1 Axes>"
      ]
     },
     "metadata": {
      "needs_background": "light"
     },
     "output_type": "display_data"
    }
   ],
   "source": [
    "graph_utility_estimates(q_agent, sequential_decision_environment, 200, [(0,2),(2,1),(2,2)])"
   ]
  },
  {
   "cell_type": "code",
   "execution_count": null,
   "metadata": {},
   "outputs": [],
   "source": []
  }
 ],
 "metadata": {
  "kernelspec": {
   "display_name": "Python 3",
   "language": "python",
   "name": "python3"
  },
  "language_info": {
   "codemirror_mode": {
    "name": "ipython",
    "version": 3
   },
   "file_extension": ".py",
   "mimetype": "text/x-python",
   "name": "python",
   "nbconvert_exporter": "python",
   "pygments_lexer": "ipython3",
   "version": "3.8.5"
  }
 },
 "nbformat": 4,
 "nbformat_minor": 1
}
