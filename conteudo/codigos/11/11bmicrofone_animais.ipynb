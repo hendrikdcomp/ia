{
 "cells": [
  {
   "cell_type": "markdown",
   "metadata": {},
   "source": [
    "# HMM"
   ]
  },
  {
   "cell_type": "code",
   "execution_count": 1,
   "metadata": {},
   "outputs": [],
   "source": [
    "%matplotlib inline\n",
    "import numpy as np\n",
    "import matplotlib.pylab as plt"
   ]
  },
  {
   "cell_type": "markdown",
   "metadata": {},
   "source": [
    "## Algoritmo Forward"
   ]
  },
  {
   "cell_type": "code",
   "execution_count": 2,
   "metadata": {},
   "outputs": [],
   "source": [
    "def forward(y, states, a_0, a, e):\n",
    "    L = len(y)\n",
    " \n",
    "    fwd = []\n",
    "    f_prev = {}\n",
    "\n",
    "    for i, y_i in enumerate(y):\n",
    "        f_curr = {}\n",
    "        for st in states:\n",
    "            if i == 0:\n",
    "                # caso-base (prob a priori)\n",
    "                prev_f_sum = a_0[st]\n",
    "            else:\n",
    "                prev_f_sum = sum(f_prev[k]*a[k][st] for k in states)\n",
    "            p = 1                             #Ajuste a partir daqui para estender os sensores\n",
    "            for k in range(0, len(y_i)):\n",
    "                p = p*e[st][y_i[k]]         \n",
    "            f_curr[st] = p*prev_f_sum\n",
    " \n",
    " \n",
    " \n",
    "        fwd.append(f_curr)\n",
    "        f_prev = f_curr\n",
    " \n",
    "    posterior = []\n",
    "    for i in range(L):\n",
    "        norm_sum = 0\n",
    "        for st in states:\n",
    "            norm_sum = norm_sum + fwd[i][st]\n",
    "        norm_factor = 1.0/norm_sum\n",
    "        posterior.append({st: fwd[i][st]*norm_factor for st in states})   \n",
    "\n",
    "    return posterior"
   ]
  },
  {
   "cell_type": "markdown",
   "metadata": {},
   "source": [
    "### Aplicando o algoritmo Forward para resolver o problema do rastreamento dos animais"
   ]
  },
  {
   "cell_type": "markdown",
   "metadata": {},
   "source": [
    " Objetivo: rastrear a posição de um animal em um ambiente triangular através do\n",
    "som emitido\n",
    "• Cenário: 03 microfones, cada um localizado em um vértice do ambiente. Os\n",
    "microfones produzem informação binária ruidosa a cada passo de tempo. O animal\n",
    "está perto de um dos microfones ou próximo ao meio do triângulo.\n",
    "• Estados do mundo: {m,c1,c2,c3}\n",
    "• Efeitos (observações): {mic1, mic2, mic3}\n",
    "• Modelo de transição: P(ci|ci)=0.8, P(m|ci)=0.1, P(cj≠i|ci)=0.05, P(m|m)=0.7,\n",
    "P(ci|m)=0.1\n",
    "• Modelo sensor: P(mici|ci)=0.6, P(micj≠i|ci)=0.1, P(mici|m)=0.4\n",
    "• Inicialmente: P(m)=P(c1)=P(c2)=P(c2)"
   ]
  },
  {
   "cell_type": "code",
   "execution_count": 3,
   "metadata": {},
   "outputs": [],
   "source": [
    "states = ('C1', 'C2', 'C3', 'M')\n",
    "#end_state = 'E'\n",
    " \n",
    "# evidências estendidas.\n",
    "#utilização de lista no lugar de tupla. Ajuste necessário para permitir mais de um sensor.\n",
    "observations = [['MIC2_cap', 'MIC3_cap', 'MIC1_nCap'], ['MIC1_cap', 'MIC3_cap', 'MIC2_nCap'], ['MIC3_cap', 'MIC1_nCap', 'MIC2_cap'], ['MIC1_cap', 'MIC2_nCap', 'MIC3_cap']]\n",
    "\n",
    "\n",
    "# Probabilidades a priori\n",
    "start_probability = {'C1': 0.25, 'C2': 0.25, 'C3': 0.25, 'M': 0.25}\n",
    "\n",
    "# Modelo de transição\n",
    "transition_probability = {\n",
    "   'C1' : {'C1': 0.8, 'C2': 0.05, 'C3': 0.05, 'M': 0.1},\n",
    "    'C2' : {'C2': 0.8, 'C1': 0.05, 'C3': 0.05, 'M': 0.1},\n",
    "    'C3' : {'C3': 0.8, 'C1': 0.05, 'C2': 0.05, 'M': 0.1},\n",
    "    'M' : {'M': 0.7, 'C1': 0.1,'C2': 0.1, 'C3': 0.1 },\n",
    "   }\n",
    "\n",
    "# Modelo sensor ajustado \n",
    "emission_probability = {\n",
    "   'C1' : {'MIC1_cap': 0.6, 'MIC2_cap': 0.1, 'MIC3_cap': 0.1, 'MIC1_nCap': 0.4, 'MIC2_nCap': 0.9, 'MIC3_nCap': 0.9},\n",
    "   'C2' : {'MIC2_cap': 0.6, 'MIC1_cap': 0.1, 'MIC3_cap': 0.1, 'MIC2_nCap': 0.4, 'MIC1_nCap': 0.9, 'MIC3_nCap': 0.9},\n",
    "    'C3' : {'MIC3_cap': 0.6, 'MIC2_cap': 0.1, 'MIC1_cap': 0.1, 'MIC3_nCap': 0.4, 'MIC2_nCap': 0.9, 'MIC1_nCap': 0.9},\n",
    "   'M' : {'MIC1_cap': 0.4, 'MIC2_cap': 0.4, 'MIC3_cap': 0.4, 'MIC1_nCap': 0.6, 'MIC2_nCap': 0.6, 'MIC3_nCap': 0.6}\n",
    "   }"
   ]
  },
  {
   "cell_type": "code",
   "execution_count": 4,
   "metadata": {},
   "outputs": [
    {
     "name": "stdout",
     "output_type": "stream",
     "text": [
      "[{'C1': 0.019230769230769235, 'C2': 0.2596153846153846, 'C3': 0.2596153846153846, 'M': 0.4615384615384616}, {'C1': 0.0837152251316036, 'C2': 0.018978176800286208, 'C3': 0.25620538680386373, 'M': 0.6411012112642465}, {'C1': 0.00863260586220246, 'C2': 0.07747436435997544, 'C3': 0.22063001457264042, 'M': 0.6932630152051816}, {'C1': 0.07181238471447907, 'C2': 0.008333005231651546, 'C3': 0.197095790888381, 'M': 0.7227588191654885}]\n"
     ]
    }
   ],
   "source": [
    "def example():\n",
    "    return forward(observations,\n",
    "                   states,\n",
    "                   start_probability,\n",
    "                   transition_probability,\n",
    "                   emission_probability)\n",
    " \n",
    "prob = example()\n",
    "print (prob)"
   ]
  },
  {
   "cell_type": "markdown",
   "metadata": {},
   "source": [
    "# Decodificação (decoding)\n",
    "Serve para resolver o problema de encontrar a sequência de estados ocultos que melhor explica a sequencia de observacões."
   ]
  },
  {
   "cell_type": "markdown",
   "metadata": {},
   "source": [
    "## Algoritmo de Viterbi"
   ]
  },
  {
   "cell_type": "code",
   "execution_count": 5,
   "metadata": {},
   "outputs": [],
   "source": [
    "def print_dptable(V):\n",
    "    s = \"    \" + \" \".join((\"%7d\" % i) for i in range(len(V))) + \"\\n\"\n",
    "    for y in V[0]:\n",
    "        s += \"%.5s: \" % y\n",
    "        s += \" \".join(\"%.7s\" % (\"%f\" % v[y]) for v in V)\n",
    "        s += \"\\n\"\n",
    "    print(s)\n",
    "\n",
    "def viterbi(obs, states, start_p, trans_p, emit_p):\n",
    "    V = [{}]\n",
    "    path = {}\n",
    " \n",
    "    # Inicializa casos-base (t == 0)\n",
    "    for y in states:\n",
    "        p = 1\n",
    "        for k in range(0, len(obs[0])):\n",
    "            p = p*emit_p[y][obs[0][k]]\n",
    "        \n",
    "        V[0][y] = start_p[y]*p\n",
    "        path[y] = [y]\n",
    " \n",
    "    # Executa Viterbi para t > 0\n",
    "    for t in range(1, len(obs)):\n",
    "        V.append({})\n",
    "        newpath = {}\n",
    " \n",
    "        for y in states:\n",
    "            p = 1 #Ajuste a partir daqui para permitir utilizar mais de um sensor.\n",
    "            for k in range(0, len(obs[0])):\n",
    "                p = p*emit_p[y][obs[t][k]]\n",
    "            (prob, state) = max((V[t-1][y0] * trans_p[y0][y] * p, y0) for y0 in states)\n",
    "            V[t][y] = prob\n",
    "            newpath[y] = path[state] + [y]\n",
    " \n",
    "        # não se faz necessário lembrar de caminhos antigos\n",
    "        path = newpath\n",
    "     \n",
    "    #print_dptable(V)\n",
    "    (prob, state) = max((V[t][y], y) for y in states)\n",
    "    \n",
    "    return (V, path[state])"
   ]
  },
  {
   "cell_type": "markdown",
   "metadata": {},
   "source": [
    "### Aplicando o algoritmo de Viterbi para resolver o problema do rastreamento dos animais"
   ]
  },
  {
   "cell_type": "markdown",
   "metadata": {},
   "source": [
    "Objetivo: rastrear a posição de um animal em um ambiente triangular através do\n",
    "som emitido\n",
    "• Cenário: 03 microfones, cada um localizado em um vértice do ambiente. Os\n",
    "microfones produzem informação binária ruidosa a cada passo de tempo. O animal\n",
    "está perto de um dos microfones ou próximo ao meio do triângulo.\n",
    "• Estados do mundo: {m,c1,c2,c3}\n",
    "• Efeitos (observações): {mic1, mic2, mic3}\n",
    "• Modelo de transição: P(ci|ci)=0.8, P(m|ci)=0.1, P(cj≠i|ci)=0.05, P(m|m)=0.7,\n",
    "P(ci|m)=0.1\n",
    "• Modelo sensor: P(mici|ci)=0.6, P(micj≠i|ci)=0.1, P(mici|m)=0.4\n",
    "• Inicialmente: P(m)=P(c1)=P(c2)=P(c2)"
   ]
  },
  {
   "cell_type": "code",
   "execution_count": 6,
   "metadata": {},
   "outputs": [],
   "source": [
    "states = ('C1', 'C2', 'C3', 'M')\n",
    "#end_state = 'E'\n",
    " \n",
    "# evidências estendidas.\n",
    "#utilização de lista no lugar de tupla. Ajuste necessário para permitir mais de um sensor.\n",
    "observations = [['MIC2_cap', 'MIC3_cap', 'MIC1_nCap'], ['MIC1_cap', 'MIC3_cap', 'MIC2_nCap'], ['MIC2_cap', 'MIC1_cap', 'MIC3_cap'], ['MIC1_cap', 'MIC2_nCap', 'MIC3_cap']]\n",
    "\n",
    "\n",
    "# Probabilidades a priori\n",
    "start_probability = {'C1': 0.25, 'C2': 0.25, 'C3': 0.25, 'M': 0.25}\n",
    "\n",
    "# Modelo de transição\n",
    "transition_probability = {\n",
    "   'C1' : {'C1': 0.8, 'C2': 0.05, 'C3': 0.05, 'M': 0.1},\n",
    "    'C2' : {'C2': 0.8, 'C1': 0.05, 'C3': 0.05, 'M': 0.1},\n",
    "    'C3' : {'C3': 0.8, 'C1': 0.05, 'C2': 0.05, 'M': 0.1},\n",
    "    'M' : {'M': 0.7, 'C1': 0.1,'C2': 0.1, 'C3': 0.1 },\n",
    "   }\n",
    "\n",
    "# Modelo sensor ajustado \n",
    "emission_probability = {\n",
    "   'C1' : {'MIC1_cap': 0.6, 'MIC2_cap': 0.1, 'MIC3_cap': 0.1, 'MIC1_nCap': 0.4, 'MIC2_nCap': 0.9, 'MIC3_nCap': 0.9},\n",
    "   'C2' : {'MIC2_cap': 0.6, 'MIC1_cap': 0.1, 'MIC3_cap': 0.1, 'MIC2_nCap': 0.4, 'MIC1_nCap': 0.9, 'MIC3_nCap': 0.9},\n",
    "    'C3' : {'MIC3_cap': 0.6, 'MIC2_cap': 0.1, 'MIC1_cap': 0.1, 'MIC3_nCap': 0.4, 'MIC2_nCap': 0.9, 'MIC1_nCap': 0.9},\n",
    "   'M' : {'MIC1_cap': 0.4, 'MIC2_cap': 0.4, 'MIC3_cap': 0.4, 'MIC1_nCap': 0.6, 'MIC2_nCap': 0.6, 'MIC3_nCap': 0.6}\n",
    "   }"
   ]
  },
  {
   "cell_type": "code",
   "execution_count": 7,
   "metadata": {},
   "outputs": [
    {
     "name": "stdout",
     "output_type": "stream",
     "text": [
      "[{'C1': 0.0010000000000000002, 'C2': 0.0135, 'C3': 0.0135, 'M': 0.024000000000000004}, {'C1': 0.00012960000000000003, 'C2': 4.320000000000001e-05, 'C3': 0.0005832, 'M': 0.0016128000000000006}, {'C1': 9.676800000000006e-07, 'C2': 9.676800000000006e-07, 'C3': 2.7993600000000004e-06, 'M': 7.225344000000003e-05}, {'C1': 3.9016857600000024e-07, 'C2': 2.8901376000000022e-08, 'C3': 3.9016857600000024e-07, 'M': 4.855431168000001e-06}]\n",
      "Sequência mais provável: ['M', 'M', 'M', 'M']\n"
     ]
    }
   ],
   "source": [
    "# input the generated markov model\n",
    "def example():\n",
    "    return viterbi(observations,\n",
    "                   states,\n",
    "                   start_probability,\n",
    "                   transition_probability,\n",
    "                   emission_probability)\n",
    "\n",
    "(v, path_hidden) = example()\n",
    "\n",
    "print (v)\n",
    "print ('Sequência mais provável:',path_hidden)"
   ]
  },
  {
   "cell_type": "code",
   "execution_count": null,
   "metadata": {},
   "outputs": [],
   "source": []
  }
 ],
 "metadata": {
  "kernelspec": {
   "display_name": "Python 3",
   "language": "python",
   "name": "python3"
  },
  "language_info": {
   "codemirror_mode": {
    "name": "ipython",
    "version": 3
   },
   "file_extension": ".py",
   "mimetype": "text/x-python",
   "name": "python",
   "nbconvert_exporter": "python",
   "pygments_lexer": "ipython3",
   "version": "3.8.5"
  }
 },
 "nbformat": 4,
 "nbformat_minor": 1
}
