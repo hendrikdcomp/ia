{
 "cells": [
  {
   "cell_type": "markdown",
   "metadata": {
    "collapsed": true
   },
   "source": [
    "# Busca global (informada)"
   ]
  },
  {
   "cell_type": "code",
   "execution_count": 3,
   "metadata": {
    "scrolled": true
   },
   "outputs": [],
   "source": [
    "%matplotlib inline\n",
    "import warnings\n",
    "import networkx as nx\n",
    "import matplotlib.pyplot as plt\n",
    "import math\n",
    "import heapq\n",
    "from matplotlib import lines\n",
    "from collections import deque\n",
    "from utils import (\n",
    "    is_in, argmin, argmax, argmax_random_tie, probability, weighted_sampler,\n",
    "    memoize, print_table, PriorityQueue, name,\n",
    "    distance\n",
    ")\n",
    "\n",
    "from ipywidgets import interact\n",
    "import ipywidgets as widgets\n",
    "from IPython.display import display\n",
    "import time\n",
    "warnings.filterwarnings(\"ignore\")"
   ]
  },
  {
   "cell_type": "markdown",
   "metadata": {},
   "source": [
    "## Problema"
   ]
  },
  {
   "cell_type": "code",
   "execution_count": 4,
   "metadata": {},
   "outputs": [],
   "source": [
    "class Problem(object):\n",
    "\n",
    "    \"\"\"The abstract class for a formal problem. You should subclass\n",
    "    this and implement the methods actions and result, and possibly\n",
    "    __init__, goal_test, and path_cost. Then you will create instances\n",
    "    of your subclass and solve them with the various search functions.\"\"\"\n",
    "\n",
    "    def __init__(self, initial, goal=None):\n",
    "        \"\"\"The constructor specifies the initial state, and possibly a goal\n",
    "        state, if there is a unique goal. Your subclass's constructor can add\n",
    "        other arguments.\"\"\"\n",
    "        self.initial = initial\n",
    "        self.goal = goal\n",
    "\n",
    "    def actions(self, state):\n",
    "        \"\"\"Return the actions that can be executed in the given\n",
    "        state. The result would typically be a list, but if there are\n",
    "        many actions, consider yielding them one at a time in an\n",
    "        iterator, rather than building them all at once.\"\"\"\n",
    "        raise NotImplementedError\n",
    "\n",
    "    def result(self, state, action):\n",
    "        \"\"\"Return the state that results from executing the given\n",
    "        action in the given state. The action must be one of\n",
    "        self.actions(state).\"\"\"\n",
    "        raise NotImplementedError\n",
    "\n",
    "    def goal_test(self, state):\n",
    "        \"\"\"Return True if the state is a goal. The default method compares the\n",
    "        state to self.goal or checks for state in self.goal if it is a\n",
    "        list, as specified in the constructor. Override this method if\n",
    "        checking against a single self.goal is not enough.\"\"\"\n",
    "        if isinstance(self.goal, list):\n",
    "            return is_in(state, self.goal)\n",
    "        else:\n",
    "            return state == self.goal\n",
    "\n",
    "    def path_cost(self, c, state1, action, state2):\n",
    "        \"\"\"Return the cost of a solution path that arrives at state2 from\n",
    "        state1 via action, assuming cost c to get up to state1. If the problem\n",
    "        is such that the path doesn't matter, this function will only look at\n",
    "        state2.  If the path does matter, it will consider c and maybe state1\n",
    "        and action. The default method costs 1 for every step in the path.\"\"\"\n",
    "        return c + 1\n",
    "\n",
    "    def value(self, state):\n",
    "        \"\"\"For optimization problems, each state has a value.  Hill-climbing\n",
    "        and related algorithms try to maximize this value.\"\"\"\n",
    "        raise NotImplementedError"
   ]
  },
  {
   "cell_type": "code",
   "execution_count": 5,
   "metadata": {},
   "outputs": [],
   "source": [
    "class Node:\n",
    "\n",
    "    \"\"\"A node in a search tree. Contains a pointer to the parent (the node\n",
    "    that this is a successor of) and to the actual state for this node. Note\n",
    "    that if a state is arrived at by two paths, then there are two nodes with\n",
    "    the same state.  Also includes the action that got us to this state, and\n",
    "    the total path_cost (also known as g) to reach the node.  Other functions\n",
    "    may add an f and h value; see best_first_graph_search and astar_search for\n",
    "    an explanation of how the f and h values are handled. You will not need to\n",
    "    subclass this class.\"\"\"\n",
    "\n",
    "    def __init__(self, state, parent=None, action=None, path_cost=0):\n",
    "        \"\"\"Create a search tree Node, derived from a parent by an action.\"\"\"\n",
    "        self.state = state\n",
    "        self.parent = parent\n",
    "        self.action = action\n",
    "        self.path_cost = path_cost\n",
    "        self.depth = 0\n",
    "        if parent:\n",
    "            self.depth = parent.depth + 1\n",
    "\n",
    "    def __repr__(self):\n",
    "        return \"<Node {}>\".format(self.state)\n",
    "\n",
    "    def __lt__(self, node):\n",
    "        return self.state < node.state\n",
    "\n",
    "    def expand(self, problem):\n",
    "        \"\"\"List the nodes reachable in one step from this node.\"\"\"\n",
    "        return [self.child_node(problem, action)\n",
    "                for action in problem.actions(self.state)]\n",
    "\n",
    "    def child_node(self, problem, action):\n",
    "        \"\"\"[Figure 3.10]\"\"\"\n",
    "        next_state = problem.result(self.state, action)\n",
    "        next_node = Node(next_state, self, action,\n",
    "                    problem.path_cost(self.path_cost, self.state,\n",
    "                                      action, next_state))\n",
    "        return next_node\n",
    "    \n",
    "    def solution(self):\n",
    "        \"\"\"Return the sequence of actions to go from the root to this node.\"\"\"\n",
    "        return [node.action for node in self.path()[1:]]\n",
    "\n",
    "    def path(self):\n",
    "        \"\"\"Return a list of nodes forming the path from the root to this node.\"\"\"\n",
    "        node, path_back = self, []\n",
    "        while node:\n",
    "            path_back.append(node)\n",
    "            node = node.parent\n",
    "        return list(reversed(path_back))\n",
    "\n",
    "    # We want for a queue of nodes in breadth_first_graph_search or\n",
    "    # astar_search to have no duplicated states, so we treat nodes\n",
    "    # with the same state as equal. [Problem: this may not be what you\n",
    "    # want in other contexts.]\n",
    "\n",
    "    def __eq__(self, other):\n",
    "        return isinstance(other, Node) and self.state == other.state\n",
    "\n",
    "    def __hash__(self):\n",
    "        return hash(self.state)"
   ]
  },
  {
   "cell_type": "code",
   "execution_count": 41,
   "metadata": {},
   "outputs": [],
   "source": [
    "class GraphProblem(Problem):\n",
    "\n",
    "    \"\"\"The problem of searching a graph from one node to another.\"\"\"\n",
    "\n",
    "    def __init__(self, initial, goal, graph):\n",
    "        Problem.__init__(self, initial, goal)\n",
    "        self.graph = graph\n",
    "\n",
    "    def actions(self, A):\n",
    "        \"\"\"The actions at a graph node are just its neighbors.\"\"\"\n",
    "        return list(self.graph.get(A).keys())\n",
    "\n",
    "    def result(self, state, action):\n",
    "        \"\"\"The result of going to a neighbor is just that neighbor.\"\"\"\n",
    "        return action\n",
    "\n",
    "    def path_cost(self, cost_so_far, A, action, B):\n",
    "        return cost_so_far + (self.graph.get(A, B) or infinity)\n",
    "\n",
    "    def find_min_edge(self):\n",
    "        \"\"\"Find minimum value of edges.\"\"\"\n",
    "        m = infinity\n",
    "        for d in self.graph.graph_dict.values():\n",
    "            local_min = min(d.values())\n",
    "            m = min(m, local_min)\n",
    "\n",
    "        return m\n",
    "\n",
    "    def h(self, node):\n",
    "        \"\"\"h function is straight-line distance from a node's state to goal.\"\"\"\n",
    "        locs = getattr(self.graph, 'locations', None)\n",
    "        if locs:\n",
    "            if type(node) is str:\n",
    "                return int(distance(locs[node], locs[self.goal]))\n",
    "\n",
    "            return int(distance(locs[node.state], locs[self.goal]))\n",
    "        else:\n",
    "            return infinity"
   ]
  },
  {
   "cell_type": "code",
   "execution_count": 7,
   "metadata": {},
   "outputs": [],
   "source": [
    "class Graph:\n",
    "\n",
    "    \"\"\"A graph connects nodes (vertices) by edges (links).  Each edge can also\n",
    "    have a length associated with it.  The constructor call is something like:\n",
    "        g = Graph({'A': {'B': 1, 'C': 2})\n",
    "    this makes a graph with 3 nodes, A, B, and C, with an edge of length 1 from\n",
    "    A to B,  and an edge of length 2 from A to C.  You can also do:\n",
    "        g = Graph({'A': {'B': 1, 'C': 2}, directed=False)\n",
    "    This makes an undirected graph, so inverse links are also added. The graph\n",
    "    stays undirected; if you add more links with g.connect('B', 'C', 3), then\n",
    "    inverse link is also added.  You can use g.nodes() to get a list of nodes,\n",
    "    g.get('A') to get a dict of links out of A, and g.get('A', 'B') to get the\n",
    "    length of the link from A to B.  'Lengths' can actually be any object at\n",
    "    all, and nodes can be any hashable object.\"\"\"\n",
    "\n",
    "    def __init__(self, graph_dict=None, directed=True):\n",
    "        self.graph_dict = graph_dict or {}\n",
    "        self.directed = directed\n",
    "        if not directed:\n",
    "            self.make_undirected()\n",
    "\n",
    "    def make_undirected(self):\n",
    "        \"\"\"Make a digraph into an undirected graph by adding symmetric edges.\"\"\"\n",
    "        for a in list(self.graph_dict.keys()):\n",
    "            for (b, dist) in self.graph_dict[a].items():\n",
    "                self.connect1(b, a, dist)\n",
    "\n",
    "    def connect(self, A, B, distance=1):\n",
    "        \"\"\"Add a link from A and B of given distance, and also add the inverse\n",
    "        link if the graph is undirected.\"\"\"\n",
    "        self.connect1(A, B, distance)\n",
    "        if not self.directed:\n",
    "            self.connect1(B, A, distance)\n",
    "\n",
    "    def connect1(self, A, B, distance):\n",
    "        \"\"\"Add a link from A to B of given distance, in one direction only.\"\"\"\n",
    "        self.graph_dict.setdefault(A, {})[B] = distance\n",
    "\n",
    "    def get(self, a, b=None):\n",
    "        \"\"\"Return a link distance or a dict of {node: distance} entries.\n",
    "        .get(a,b) returns the distance or None;\n",
    "        .get(a) returns a dict of {node: distance} entries, possibly {}.\"\"\"\n",
    "        links = self.graph_dict.setdefault(a, {})\n",
    "        if b is None:\n",
    "            return links\n",
    "        else:\n",
    "            return links.get(b)\n",
    "\n",
    "    def nodes(self):\n",
    "        \"\"\"Return a list of nodes in the graph.\"\"\"\n",
    "        s1 = set([k for k in self.graph_dict.keys()])\n",
    "        s2 = set([k2 for v in self.graph_dict.values() for k2, v2 in v.items()])\n",
    "        nodes = s1.union(s2)\n",
    "        return list(nodes)"
   ]
  },
  {
   "cell_type": "code",
   "execution_count": 8,
   "metadata": {},
   "outputs": [],
   "source": [
    "def UndirectedGraph(graph_dict=None):\n",
    "    \"\"\"Build a Graph where every edge (including future ones) goes both ways.\"\"\"\n",
    "    return Graph(graph_dict = graph_dict, directed=False)"
   ]
  },
  {
   "cell_type": "code",
   "execution_count": 9,
   "metadata": {},
   "outputs": [],
   "source": [
    "romania_map = UndirectedGraph(dict(\n",
    "    Arad=dict(Zerind=75, Sibiu=140, Timisoara=118),\n",
    "    Bucharest=dict(Urziceni=85, Pitesti=101, Giurgiu=90, Fagaras=211),\n",
    "    Craiova=dict(Drobeta=120, Rimnicu=146, Pitesti=138),\n",
    "    Drobeta=dict(Mehadia=75),\n",
    "    Eforie=dict(Hirsova=86),\n",
    "    Fagaras=dict(Sibiu=99),\n",
    "    Hirsova=dict(Urziceni=98),\n",
    "    Iasi=dict(Vaslui=92, Neamt=87),\n",
    "    Lugoj=dict(Timisoara=111, Mehadia=70),\n",
    "    Oradea=dict(Zerind=71, Sibiu=151),\n",
    "    Pitesti=dict(Rimnicu=97),\n",
    "    Rimnicu=dict(Sibiu=80),\n",
    "    Urziceni=dict(Vaslui=142)))\n",
    "\n",
    "romania_map.locations = dict(\n",
    "    Arad=(91, 492), Bucharest=(400, 327), Craiova=(253, 288),\n",
    "    Drobeta=(165, 299), Eforie=(562, 293), Fagaras=(305, 449),\n",
    "    Giurgiu=(375, 270), Hirsova=(534, 350), Iasi=(473, 506),\n",
    "    Lugoj=(165, 379), Mehadia=(168, 339), Neamt=(406, 537),\n",
    "    Oradea=(131, 571), Pitesti=(320, 368), Rimnicu=(233, 410),\n",
    "    Sibiu=(207, 457), Timisoara=(94, 410), Urziceni=(456, 350),\n",
    "    Vaslui=(509, 444), Zerind=(108, 531))"
   ]
  },
  {
   "cell_type": "code",
   "execution_count": 10,
   "metadata": {},
   "outputs": [],
   "source": [
    "romania_problem = GraphProblem('Arad', 'Bucharest', romania_map)"
   ]
  },
  {
   "cell_type": "markdown",
   "metadata": {},
   "source": [
    "# Visualização do mapa da Romênia"
   ]
  },
  {
   "cell_type": "code",
   "execution_count": 11,
   "metadata": {},
   "outputs": [
    {
     "name": "stdout",
     "output_type": "stream",
     "text": [
      "{'Arad': (91, 492), 'Bucharest': (400, 327), 'Craiova': (253, 288), 'Drobeta': (165, 299), 'Eforie': (562, 293), 'Fagaras': (305, 449), 'Giurgiu': (375, 270), 'Hirsova': (534, 350), 'Iasi': (473, 506), 'Lugoj': (165, 379), 'Mehadia': (168, 339), 'Neamt': (406, 537), 'Oradea': (131, 571), 'Pitesti': (320, 368), 'Rimnicu': (233, 410), 'Sibiu': (207, 457), 'Timisoara': (94, 410), 'Urziceni': (456, 350), 'Vaslui': (509, 444), 'Zerind': (108, 531)}\n"
     ]
    }
   ],
   "source": [
    "romania_locations = romania_map.locations\n",
    "print(romania_locations)"
   ]
  },
  {
   "cell_type": "markdown",
   "metadata": {},
   "source": [
    "### Módulos necessários: networkx, matplotlib e ipywidgets."
   ]
  },
  {
   "cell_type": "code",
   "execution_count": 12,
   "metadata": {},
   "outputs": [],
   "source": [
    "%matplotlib inline\n",
    "import networkx as nx\n",
    "import matplotlib.pyplot as plt\n",
    "from matplotlib import lines\n",
    "\n",
    "from ipywidgets import interact\n",
    "import ipywidgets as widgets\n",
    "from IPython.display import display\n",
    "import time"
   ]
  },
  {
   "cell_type": "code",
   "execution_count": 13,
   "metadata": {},
   "outputs": [],
   "source": [
    "# initialise a graph\n",
    "G = nx.Graph()\n",
    "\n",
    "# use this while labeling nodes in the map\n",
    "node_labels = dict()\n",
    "# use this to modify colors of nodes while exploring the graph.\n",
    "# This is the only dict we send to `show_map(node_colors)` while drawing the map\n",
    "node_colors = dict()\n",
    "\n",
    "for n, p in romania_locations.items():\n",
    "    # add nodes from romania_locations\n",
    "    G.add_node(n)\n",
    "    # add nodes to node_labels\n",
    "    node_labels[n] = n\n",
    "    # node_colors to color nodes while exploring romania map\n",
    "    node_colors[n] = \"black\"\n",
    "\n",
    "# we'll save the initial node colors to a dict to use later\n",
    "initial_node_colors = dict(node_colors)\n",
    "    \n",
    "# positions for node labels\n",
    "node_label_pos = { k:[v[0],v[1]-10]  for k,v in romania_locations.items() }\n",
    "\n",
    "# use this while labeling edges\n",
    "edge_labels = dict()\n",
    "\n",
    "# add edges between cities in romania map - UndirectedGraph defined in search.py\n",
    "for node in romania_map.nodes():\n",
    "    connections = romania_map.get(node)\n",
    "    for connection in connections.keys():\n",
    "        distance = connections[connection]\n",
    "\n",
    "        # add edges to the graph\n",
    "        G.add_edge(node, connection)\n",
    "        # add distances to edge_labels\n",
    "        edge_labels[(node, connection)] = distance"
   ]
  },
  {
   "cell_type": "code",
   "execution_count": 14,
   "metadata": {},
   "outputs": [],
   "source": [
    "def show_map(node_colors):\n",
    "    # set the size of the plot\n",
    "    plt.figure(figsize=(18,13))\n",
    "    # draw the graph (both nodes and edges) with locations from romania_locations\n",
    "    nx.draw(G, pos = romania_locations, node_color = [node_colors[node] for node in G.nodes()])\n",
    "\n",
    "    # draw labels for nodes\n",
    "    node_label_handles = nx.draw_networkx_labels(G, pos = node_label_pos, labels = node_labels, font_size = 14)\n",
    "    # add a white bounding box behind the node labels\n",
    "    [label.set_bbox(dict(facecolor='white', edgecolor='none')) for label in node_label_handles.values()]\n",
    "\n",
    "    # add edge lables to the graph\n",
    "    nx.draw_networkx_edge_labels(G, pos = romania_locations, edge_labels=edge_labels, font_size = 14)\n",
    "    \n",
    "    # add a legend\n",
    "    white_circle = lines.Line2D([], [], color=\"black\", marker='o', markersize=15, markerfacecolor=\"black\")\n",
    "    orange_circle = lines.Line2D([], [], color=\"orange\", marker='o', markersize=15, markerfacecolor=\"orange\")\n",
    "    red_circle = lines.Line2D([], [], color=\"red\", marker='o', markersize=15, markerfacecolor=\"red\")\n",
    "    gray_circle = lines.Line2D([], [], color=\"gray\", marker='o', markersize=15, markerfacecolor=\"gray\")\n",
    "    green_circle = lines.Line2D([], [], color=\"green\", marker='o', markersize=15, markerfacecolor=\"green\")\n",
    "    plt.legend((white_circle, orange_circle, red_circle, gray_circle, green_circle),\n",
    "               ('Un-explored', 'Frontier', 'Currently Exploring', 'Explored', 'Final Solution'),\n",
    "               numpoints=1,prop={'size':16}, loc=(.8,.75))\n",
    "    \n",
    "    # show the plot. No need to use in notebooks. nx.draw will show the graph itself.\n",
    "    plt.show()"
   ]
  },
  {
   "cell_type": "code",
   "execution_count": 15,
   "metadata": {},
   "outputs": [
    {
     "data": {
      "image/png": "[encoded data removed]",
      "text/plain": [
       "<Figure size 1296x936 with 1 Axes>"
      ]
     },
     "metadata": {},
     "output_type": "display_data"
    }
   ],
   "source": [
    "show_map(node_colors)"
   ]
  },
  {
   "cell_type": "markdown",
   "metadata": {},
   "source": [
    "## Algoritmos de busca\n",
    "\n",
    "1. Breadth First Tree Search\n",
    "2. Breadth First Search\n",
    "3. Uniform Cost Search\n",
    "4. A\\*-Search\n",
    "5. Greedy Search\n",
    "\n",
    "Cores:\n",
    "* Un-explored nodes - <font color='black'>black</font>\n",
    "* Frontier nodes - <font color='orange'>orange</font>\n",
    "* Currently exploring node - <font color='red'>red</font>\n",
    "* Already explored nodes - <font color='gray'>gray</font>"
   ]
  },
  {
   "cell_type": "markdown",
   "metadata": {},
   "source": [
    "### Suporte para visualização"
   ]
  },
  {
   "cell_type": "code",
   "execution_count": 16,
   "metadata": {},
   "outputs": [],
   "source": [
    "def final_path_colors(problem, solution):\n",
    "    \"returns a node_colors dict of the final path provided the problem and solution\"\n",
    "    \n",
    "    # get initial node colors\n",
    "    final_colors = dict(initial_node_colors)\n",
    "    # color all the nodes in solution and starting node to green\n",
    "    final_colors[problem.initial] = \"green\"\n",
    "    for node in solution:\n",
    "        final_colors[node] = \"green\"  \n",
    "    return final_colors\n",
    "\n",
    "\n",
    "def display_visual(user_input, algorithm=None, problem=None):\n",
    "    if user_input == False:\n",
    "        def slider_callback(iteration):\n",
    "            # don't show graph for the first time running the cell calling this function\n",
    "            try:\n",
    "                show_map(all_node_colors[iteration])\n",
    "            except:\n",
    "                pass\n",
    "        def visualize_callback(Visualize):\n",
    "            if Visualize is True:\n",
    "                button.value = False\n",
    "                \n",
    "                global all_node_colors\n",
    "                \n",
    "                iterations, all_node_colors, node = algorithm(problem)\n",
    "                solution = node.solution()\n",
    "                all_node_colors.append(final_path_colors(problem, solution))\n",
    "                \n",
    "                slider.max = len(all_node_colors) - 1\n",
    "                \n",
    "                for i in range(slider.max + 1):\n",
    "                    slider.value = i\n",
    "                     #time.sleep(.5)\n",
    "        \n",
    "        slider = widgets.IntSlider(min=0, max=1, step=1, value=0)\n",
    "        slider_visual = widgets.interactive(slider_callback, iteration = slider)\n",
    "        display(slider_visual)\n",
    "\n",
    "        button = widgets.ToggleButton(value = False)\n",
    "        button_visual = widgets.interactive(visualize_callback, Visualize = button)\n",
    "        display(button_visual)\n",
    "    \n",
    "    if user_input == True:\n",
    "        node_colors = dict(initial_node_colors)\n",
    "        if algorithm == None:\n",
    "            algorithms = {\"Breadth First Tree Search\": breadth_first_tree_search,\n",
    "                          \"Breadth First Search\": breadth_first_search,\n",
    "                          \"Uniform Cost Search\": uniform_cost_search,\n",
    "                          \"Greedy Search\": greedy_search,\n",
    "                          \"A-star Search\": astar_search}\n",
    "            algo_dropdown = widgets.Dropdown(description = \"Search algorithm: \",\n",
    "                                             options = sorted(list(algorithms.keys())),\n",
    "                                             value = \"Breadth First Tree Search\")\n",
    "            display(algo_dropdown)\n",
    "        \n",
    "        def slider_callback(iteration):\n",
    "            # don't show graph for the first time running the cell calling this function\n",
    "            try:\n",
    "                show_map(all_node_colors[iteration])\n",
    "            except:\n",
    "                pass\n",
    "            \n",
    "        def visualize_callback(Visualize):\n",
    "            if Visualize is True:\n",
    "                button.value = False\n",
    "                \n",
    "                problem = GraphProblem(start_dropdown.value, end_dropdown.value, romania_map)\n",
    "                global all_node_colors\n",
    "                \n",
    "                if algorithm == None:\n",
    "                    user_algorithm = algorithms[algo_dropdown.value]\n",
    "                \n",
    "#                 print(user_algorithm)\n",
    "#                 print(problem)\n",
    "                \n",
    "                iterations, all_node_colors, node = user_algorithm(problem)\n",
    "                solution = node.solution()\n",
    "                all_node_colors.append(final_path_colors(problem, solution))\n",
    "\n",
    "                slider.max = len(all_node_colors) - 1\n",
    "                \n",
    "                for i in range(slider.max + 1):\n",
    "                    slider.value = i\n",
    "#                    time.sleep(.5)\n",
    "                         \n",
    "        start_dropdown = widgets.Dropdown(description = \"Start city: \",\n",
    "                                          options = sorted(list(node_colors.keys())), value = \"Arad\")\n",
    "        display(start_dropdown)\n",
    "\n",
    "        end_dropdown = widgets.Dropdown(description = \"Goal city: \",\n",
    "                                        options = sorted(list(node_colors.keys())), value = \"Fagaras\")\n",
    "        display(end_dropdown)\n",
    "        \n",
    "        button = widgets.ToggleButton(value = False)\n",
    "        button_visual = widgets.interactive(visualize_callback, Visualize = button)\n",
    "        display(button_visual)\n",
    "        \n",
    "        slider = widgets.IntSlider(min=0, max=1, step=1, value=0)\n",
    "        slider_visual = widgets.interactive(slider_callback, iteration = slider)\n",
    "        display(slider_visual)"
   ]
  },
  {
   "cell_type": "markdown",
   "metadata": {},
   "source": [
    "\n",
    "## Busca em árvore (abstrata)"
   ]
  },
  {
   "cell_type": "code",
   "execution_count": 17,
   "metadata": {},
   "outputs": [],
   "source": [
    "def tree_search(problem, frontier):\n",
    "    \"\"\"Search through the successors of a problem to find a goal.\n",
    "    The argument frontier should be an empty queue.\n",
    "    Don't worry about repeated paths to a state. [Figure 3.7]\"\"\"\n",
    "    \n",
    "    # we use these two variables at the time of visualisations\n",
    "    iterations = 0\n",
    "    all_node_colors = []\n",
    "    node_colors = dict(initial_node_colors)\n",
    "    \n",
    "    #Adding first node to the queue\n",
    "    frontier.append(Node(problem.initial))\n",
    "    \n",
    "    node_colors[Node(problem.initial).state] = \"orange\"\n",
    "    iterations += 1\n",
    "    all_node_colors.append(dict(node_colors))\n",
    "    \n",
    "    while frontier:\n",
    "        #Popping first node of queue\n",
    "        node = frontier.popleft()\n",
    "        \n",
    "        # modify the currently searching node to red\n",
    "        node_colors[node.state] = \"red\"\n",
    "        iterations += 1\n",
    "        all_node_colors.append(dict(node_colors))\n",
    "        \n",
    "        if problem.goal_test(node.state):\n",
    "            # modify goal node to green after reaching the goal\n",
    "            node_colors[node.state] = \"green\"\n",
    "            iterations += 1\n",
    "            all_node_colors.append(dict(node_colors))\n",
    "            return(iterations, all_node_colors, node)\n",
    "        \n",
    "        frontier.extend(node.expand(problem))\n",
    "           \n",
    "        for n in node.expand(problem):\n",
    "            node_colors[n.state] = \"orange\"\n",
    "            iterations += 1\n",
    "            all_node_colors.append(dict(node_colors))\n",
    "\n",
    "        # modify the color of explored nodes to gray\n",
    "        node_colors[node.state] = \"gray\"\n",
    "        iterations += 1\n",
    "        all_node_colors.append(dict(node_colors))\n",
    "        \n",
    "    return None"
   ]
  },
  {
   "cell_type": "markdown",
   "metadata": {},
   "source": [
    "## Breadth-First Search (BFS) - Busca cega em largura"
   ]
  },
  {
   "cell_type": "code",
   "execution_count": 18,
   "metadata": {},
   "outputs": [],
   "source": [
    "def breadth_first_tree_search(problem):\n",
    "    \"Search the shallowest nodes in the search tree first.\"\n",
    "    FIFOQueue = deque([])\n",
    "    iterations, all_node_colors, node = tree_search(problem, FIFOQueue)\n",
    "    return(iterations, all_node_colors, node)"
   ]
  },
  {
   "cell_type": "code",
   "execution_count": 19,
   "metadata": {},
   "outputs": [
    {
     "data": {
      "application/vnd.jupyter.widget-view+json": {
       "model_id": "dddac3af967c4fbb8c98998f8f6b34bc",
       "version_major": 2,
       "version_minor": 0
      },
      "text/plain": [
       "interactive(children=(IntSlider(value=0, description='iteration', max=1), Output()), _dom_classes=('widget-int…"
      ]
     },
     "metadata": {},
     "output_type": "display_data"
    },
    {
     "data": {
      "application/vnd.jupyter.widget-view+json": {
       "model_id": "1c1e6ddea7ea40d4814a807f11ef8acd",
       "version_major": 2,
       "version_minor": 0
      },
      "text/plain": [
       "interactive(children=(ToggleButton(value=False, description='Visualize'), Output()), _dom_classes=('widget-int…"
      ]
     },
     "metadata": {},
     "output_type": "display_data"
    }
   ],
   "source": [
    "all_node_colors = []\n",
    "romania_problem = GraphProblem('Arad', 'Fagaras', romania_map)\n",
    "display_visual(user_input = False, algorithm = breadth_first_tree_search, problem = romania_problem)"
   ]
  },
  {
   "cell_type": "markdown",
   "metadata": {
    "collapsed": true
   },
   "source": [
    "## Breadth-First Graph Search - Busca cega em largura em Grafo"
   ]
  },
  {
   "cell_type": "code",
   "execution_count": 20,
   "metadata": {},
   "outputs": [],
   "source": [
    "def breadth_first_search(problem):\n",
    "    \"[Figure 3.11]\"\n",
    "    \n",
    "    # we use these two variables at the time of visualisations\n",
    "    iterations = 0\n",
    "    all_node_colors = []\n",
    "    node_colors = dict(initial_node_colors)\n",
    "    \n",
    "    node = Node(problem.initial)\n",
    "    \n",
    "    node_colors[node.state] = \"red\"\n",
    "    iterations += 1\n",
    "    all_node_colors.append(dict(node_colors))\n",
    "      \n",
    "    if problem.goal_test(node.state):\n",
    "        node_colors[node.state] = \"green\"\n",
    "        iterations += 1\n",
    "        all_node_colors.append(dict(node_colors))\n",
    "        return(iterations, all_node_colors, node)\n",
    "    FIFOQueue = deque([])\n",
    "    frontier = FIFOQueue\n",
    "    frontier.append(node)\n",
    "    \n",
    "    # modify the color of frontier nodes to blue\n",
    "    node_colors[node.state] = \"orange\"\n",
    "    iterations += 1\n",
    "    all_node_colors.append(dict(node_colors))\n",
    "        \n",
    "    explored = set()\n",
    "    while frontier:\n",
    "        node = frontier.popleft()\n",
    "        node_colors[node.state] = \"red\"\n",
    "        iterations += 1\n",
    "        all_node_colors.append(dict(node_colors))\n",
    "        \n",
    "        explored.add(node.state)     \n",
    "        \n",
    "        for child in node.expand(problem):\n",
    "            if child.state not in explored and child not in frontier:\n",
    "                if problem.goal_test(child.state):\n",
    "                    node_colors[child.state] = \"green\"\n",
    "                    iterations += 1\n",
    "                    all_node_colors.append(dict(node_colors))\n",
    "                    return(iterations, all_node_colors, child)\n",
    "                frontier.append(child)\n",
    "\n",
    "                node_colors[child.state] = \"orange\"\n",
    "                iterations += 1\n",
    "                all_node_colors.append(dict(node_colors))\n",
    "                    \n",
    "        node_colors[node.state] = \"gray\"\n",
    "        iterations += 1\n",
    "        all_node_colors.append(dict(node_colors))\n",
    "    return None"
   ]
  },
  {
   "cell_type": "code",
   "execution_count": 21,
   "metadata": {},
   "outputs": [
    {
     "data": {
      "application/vnd.jupyter.widget-view+json": {
       "model_id": "be4484418f5f46c5961e6a2ef851b861",
       "version_major": 2,
       "version_minor": 0
      },
      "text/plain": [
       "interactive(children=(IntSlider(value=0, description='iteration', max=1), Output()), _dom_classes=('widget-int…"
      ]
     },
     "metadata": {},
     "output_type": "display_data"
    },
    {
     "data": {
      "application/vnd.jupyter.widget-view+json": {
       "model_id": "20c80ef17d0648d6aea55c4fc5e17570",
       "version_major": 2,
       "version_minor": 0
      },
      "text/plain": [
       "interactive(children=(ToggleButton(value=False, description='Visualize'), Output()), _dom_classes=('widget-int…"
      ]
     },
     "metadata": {},
     "output_type": "display_data"
    }
   ],
   "source": [
    "all_node_colors = []\n",
    "romania_problem = GraphProblem('Arad', 'Bucharest', romania_map)\n",
    "display_visual(user_input = False, algorithm = breadth_first_search, problem = romania_problem)"
   ]
  },
  {
   "cell_type": "markdown",
   "metadata": {},
   "source": [
    "## Uniform cost search"
   ]
  },
  {
   "cell_type": "code",
   "execution_count": 22,
   "metadata": {},
   "outputs": [],
   "source": [
    "def best_first_graph_search(problem, f):\n",
    "    \"\"\"Search the nodes with the lowest f scores first.\n",
    "    You specify the function f(node) that you want to minimize; for example,\n",
    "    if f is a heuristic estimate to the goal, then we have greedy best\n",
    "    first search; if f is node.depth then we have breadth-first search.\n",
    "    There is a subtlety: the line \"f = memoize(f, 'f')\" means that the f\n",
    "    values will be cached on the nodes as they are computed. So after doing\n",
    "    a best first search you can examine the f values of the path returned.\"\"\"\n",
    "    \n",
    "    # we use these two variables at the time of visualisations\n",
    "    iterations = 0\n",
    "    all_node_colors = []\n",
    "    node_colors = dict(initial_node_colors)\n",
    "    \n",
    "    f = memoize(f, 'f')\n",
    "    node = Node(problem.initial)\n",
    "    \n",
    "    node_colors[node.state] = \"red\"\n",
    "    iterations += 1\n",
    "    all_node_colors.append(dict(node_colors))\n",
    "    \n",
    "    if problem.goal_test(node.state):\n",
    "        node_colors[node.state] = \"green\"\n",
    "        iterations += 1\n",
    "        all_node_colors.append(dict(node_colors))\n",
    "        return(iterations, all_node_colors, node)\n",
    "    \n",
    "    frontier = PriorityQueue('min', f)\n",
    "    frontier.append(node)\n",
    "    \n",
    "    node_colors[node.state] = \"orange\"\n",
    "    iterations += 1\n",
    "    all_node_colors.append(dict(node_colors))\n",
    "    \n",
    "    explored = set()\n",
    "    while frontier:\n",
    "        node = frontier.pop()\n",
    "        \n",
    "        node_colors[node.state] = \"red\"\n",
    "        iterations += 1\n",
    "        all_node_colors.append(dict(node_colors))\n",
    "        \n",
    "        if problem.goal_test(node.state):\n",
    "            node_colors[node.state] = \"green\"\n",
    "            iterations += 1\n",
    "            all_node_colors.append(dict(node_colors))\n",
    "            return(iterations, all_node_colors, node)\n",
    "        \n",
    "        explored.add(node.state)\n",
    "        for child in node.expand(problem):\n",
    "            if child.state not in explored and child not in frontier:\n",
    "                frontier.append(child)\n",
    "                node_colors[child.state] = \"orange\"\n",
    "                iterations += 1\n",
    "                all_node_colors.append(dict(node_colors))\n",
    "            elif child in frontier:\n",
    "                incumbent = frontier[child]\n",
    "                if f(child) < f(incumbent):\n",
    "                    del frontier[incumbent]\n",
    "                    frontier.append(child)\n",
    "                    node_colors[child.state] = \"orange\"\n",
    "                    iterations += 1\n",
    "                    all_node_colors.append(dict(node_colors))\n",
    "\n",
    "        node_colors[node.state] = \"gray\"\n",
    "        iterations += 1\n",
    "        all_node_colors.append(dict(node_colors))\n",
    "    return None\n",
    "\n",
    "def uniform_cost_search(problem):\n",
    "    \"[Figure 3.14]\"\n",
    "    iterations, all_node_colors, node = best_first_graph_search(problem, lambda node: node.path_cost)\n",
    "    return(iterations, all_node_colors, node)"
   ]
  },
  {
   "cell_type": "code",
   "execution_count": 23,
   "metadata": {},
   "outputs": [
    {
     "data": {
      "application/vnd.jupyter.widget-view+json": {
       "model_id": "8ea335c8e10b4c81b12aadec57bb5f23",
       "version_major": 2,
       "version_minor": 0
      },
      "text/plain": [
       "interactive(children=(IntSlider(value=0, description='iteration', max=1), Output()), _dom_classes=('widget-int…"
      ]
     },
     "metadata": {},
     "output_type": "display_data"
    },
    {
     "data": {
      "application/vnd.jupyter.widget-view+json": {
       "model_id": "072fb5c84bfc406d843e3e9242c72dd5",
       "version_major": 2,
       "version_minor": 0
      },
      "text/plain": [
       "interactive(children=(ToggleButton(value=False, description='Visualize'), Output()), _dom_classes=('widget-int…"
      ]
     },
     "metadata": {},
     "output_type": "display_data"
    }
   ],
   "source": [
    "all_node_colors = []\n",
    "romania_problem = GraphProblem('Arad', 'Bucharest', romania_map)\n",
    "display_visual(user_input = False, algorithm = uniform_cost_search, problem = romania_problem)"
   ]
  },
  {
   "cell_type": "markdown",
   "metadata": {},
   "source": [
    "## A* search"
   ]
  },
  {
   "cell_type": "code",
   "execution_count": 42,
   "metadata": {},
   "outputs": [],
   "source": [
    "def best_first_graph_search(problem, f):\n",
    "    \"\"\"Search the nodes with the lowest f scores first.\n",
    "    You specify the function f(node) that you want to minimize; for example,\n",
    "    if f is a heuristic estimate to the goal, then we have greedy best\n",
    "    first search; if f is node.depth then we have breadth-first search.\n",
    "    There is a subtlety: the line \"f = memoize(f, 'f')\" means that the f\n",
    "    values will be cached on the nodes as they are computed. So after doing\n",
    "    a best first search you can examine the f values of the path returned.\"\"\"\n",
    "    \n",
    "    # we use these two variables at the time of visualisations\n",
    "    iterations = 0\n",
    "    all_node_colors = []\n",
    "    node_colors = dict(initial_node_colors)\n",
    "    \n",
    "    f = memoize(f, 'f')\n",
    "    node = Node(problem.initial)\n",
    "    \n",
    "    node_colors[node.state] = \"red\"\n",
    "    iterations += 1\n",
    "    all_node_colors.append(dict(node_colors))\n",
    "    \n",
    "    if problem.goal_test(node.state):\n",
    "        node_colors[node.state] = \"green\"\n",
    "        iterations += 1\n",
    "        all_node_colors.append(dict(node_colors))\n",
    "        return(iterations, all_node_colors, node)\n",
    "    \n",
    "    frontier = PriorityQueue('min', f)\n",
    "    frontier.append(node)\n",
    "    \n",
    "    node_colors[node.state] = \"orange\"\n",
    "    iterations += 1\n",
    "    all_node_colors.append(dict(node_colors))\n",
    "    \n",
    "    explored = set()\n",
    "    while frontier:\n",
    "        node = frontier.pop()\n",
    "        \n",
    "        node_colors[node.state] = \"red\"\n",
    "        iterations += 1\n",
    "        all_node_colors.append(dict(node_colors))\n",
    "        \n",
    "        if problem.goal_test(node.state):\n",
    "            node_colors[node.state] = \"green\"\n",
    "            iterations += 1\n",
    "            all_node_colors.append(dict(node_colors))\n",
    "            return(iterations, all_node_colors, node)\n",
    "        \n",
    "        explored.add(node.state)\n",
    "        for child in node.expand(problem):\n",
    "            if child.state not in explored and child not in frontier:\n",
    "                frontier.append(child)\n",
    "                node_colors[child.state] = \"orange\"\n",
    "                iterations += 1\n",
    "                all_node_colors.append(dict(node_colors))\n",
    "            elif child in frontier:\n",
    "                incumbent = frontier[child]\n",
    "                if f(child) < f(incumbent):\n",
    "                    del frontier[incumbent]\n",
    "                    frontier.append(child)\n",
    "                    node_colors[child.state] = \"orange\"\n",
    "                    iterations += 1\n",
    "                    all_node_colors.append(dict(node_colors))\n",
    "\n",
    "        node_colors[node.state] = \"gray\"\n",
    "        iterations += 1\n",
    "        all_node_colors.append(dict(node_colors))\n",
    "    return None\n",
    "\n",
    "def astar_search(problem, h=None):\n",
    "    \"\"\"A* search is best-first graph search with f(n) = g(n)+h(n).\n",
    "    You need to specify the h function when you call astar_search, or\n",
    "    else in your Problem subclass.\"\"\"\n",
    "    h = memoize(h or problem.h, 'h')\n",
    "    iterations, all_node_colors, node = best_first_graph_search(problem, lambda n: n.path_cost + h(n))\n",
    "    return(iterations, all_node_colors, node)"
   ]
  },
  {
   "cell_type": "code",
   "execution_count": 43,
   "metadata": {},
   "outputs": [
    {
     "data": {
      "application/vnd.jupyter.widget-view+json": {
       "model_id": "b14e84863eca44acb5075d34b533e983",
       "version_major": 2,
       "version_minor": 0
      },
      "text/plain": [
       "interactive(children=(IntSlider(value=0, description='iteration', max=1), Output()), _dom_classes=('widget-int…"
      ]
     },
     "metadata": {},
     "output_type": "display_data"
    },
    {
     "data": {
      "application/vnd.jupyter.widget-view+json": {
       "model_id": "2b0d4fa29de54fbbbb0537b5d431f685",
       "version_major": 2,
       "version_minor": 0
      },
      "text/plain": [
       "interactive(children=(ToggleButton(value=False, description='Visualize'), Output()), _dom_classes=('widget-int…"
      ]
     },
     "metadata": {},
     "output_type": "display_data"
    }
   ],
   "source": [
    "all_node_colors = []\n",
    "romania_problem = GraphProblem('Arad', 'Bucharest', romania_map)\n",
    "display_visual(user_input = False, algorithm = astar_search, problem = romania_problem)"
   ]
  },
  {
   "cell_type": "markdown",
   "metadata": {},
   "source": [
    "## Greedy Search"
   ]
  },
  {
   "cell_type": "code",
   "execution_count": 31,
   "metadata": {},
   "outputs": [],
   "source": [
    "def best_first_graph_search(problem, f):\n",
    "    \"\"\"Search the nodes with the lowest f scores first.\n",
    "    You specify the function f(node) that you want to minimize; for example,\n",
    "    if f is a heuristic estimate to the goal, then we have greedy best\n",
    "    first search; if f is node.depth then we have breadth-first search.\n",
    "    There is a subtlety: the line \"f = memoize(f, 'f')\" means that the f\n",
    "    values will be cached on the nodes as they are computed. So after doing\n",
    "    a best first search you can examine the f values of the path returned.\"\"\"\n",
    "    \n",
    "    # we use these two variables at the time of visualisations\n",
    "    iterations = 0\n",
    "    all_node_colors = []\n",
    "    node_colors = dict(initial_node_colors)\n",
    "    \n",
    "    f = memoize(f, 'f')\n",
    "    node = Node(problem.initial)\n",
    "    \n",
    "    node_colors[node.state] = \"red\"\n",
    "    iterations += 1\n",
    "    all_node_colors.append(dict(node_colors))\n",
    "    \n",
    "    if problem.goal_test(node.state):\n",
    "        node_colors[node.state] = \"green\"\n",
    "        iterations += 1\n",
    "        all_node_colors.append(dict(node_colors))\n",
    "        return(iterations, all_node_colors, node)\n",
    "    \n",
    "    frontier = PriorityQueue('min', f)\n",
    "    frontier.append(node)\n",
    "    \n",
    "    node_colors[node.state] = \"orange\"\n",
    "    iterations += 1\n",
    "    all_node_colors.append(dict(node_colors))\n",
    "    \n",
    "    explored = set()\n",
    "    while frontier:\n",
    "        node = frontier.pop()\n",
    "        \n",
    "        node_colors[node.state] = \"red\"\n",
    "        iterations += 1\n",
    "        all_node_colors.append(dict(node_colors))\n",
    "        \n",
    "        if problem.goal_test(node.state):\n",
    "            node_colors[node.state] = \"green\"\n",
    "            iterations += 1\n",
    "            all_node_colors.append(dict(node_colors))\n",
    "            return(iterations, all_node_colors, node)\n",
    "        \n",
    "        explored.add(node.state)\n",
    "        for child in node.expand(problem):\n",
    "            if child.state not in explored and child not in frontier:\n",
    "                frontier.append(child)\n",
    "                node_colors[child.state] = \"orange\"\n",
    "                iterations += 1\n",
    "                all_node_colors.append(dict(node_colors))\n",
    "            elif child in frontier:\n",
    "                incumbent = frontier[child]\n",
    "                if f(child) < f(incumbent):\n",
    "                    del frontier[incumbent]\n",
    "                    frontier.append(child)\n",
    "                    node_colors[child.state] = \"orange\"\n",
    "                    iterations += 1\n",
    "                    all_node_colors.append(dict(node_colors))\n",
    "\n",
    "        node_colors[node.state] = \"gray\"\n",
    "        iterations += 1\n",
    "        all_node_colors.append(dict(node_colors))\n",
    "    return None\n",
    "\n",
    "def greedy_search(problem, h=None):\n",
    "    \"[Figure 3.14]\"\n",
    "    h = memoize(h or problem.h, 'h')\n",
    "    iterations, all_node_colors, node = best_first_graph_search(problem, lambda node: h(node))\n",
    "    return(iterations, all_node_colors, node)\n",
    "\n"
   ]
  },
  {
   "cell_type": "code",
   "execution_count": 32,
   "metadata": {
    "scrolled": false
   },
   "outputs": [
    {
     "data": {
      "application/vnd.jupyter.widget-view+json": {
       "model_id": "0575388ba2bd4372ac37c0789e4cf1ff",
       "version_major": 2,
       "version_minor": 0
      },
      "text/plain": [
       "Dropdown(description='Search algorithm: ', index=2, options=('A-star Search', 'Breadth First Search', 'Breadth…"
      ]
     },
     "metadata": {},
     "output_type": "display_data"
    },
    {
     "data": {
      "application/vnd.jupyter.widget-view+json": {
       "model_id": "4279909a16814fd986f7da047ad6911f",
       "version_major": 2,
       "version_minor": 0
      },
      "text/plain": [
       "Dropdown(description='Start city: ', options=('Arad', 'Bucharest', 'Craiova', 'Drobeta', 'Eforie', 'Fagaras', …"
      ]
     },
     "metadata": {},
     "output_type": "display_data"
    },
    {
     "data": {
      "application/vnd.jupyter.widget-view+json": {
       "model_id": "aef707d9215e44edb6943d6a9c438bef",
       "version_major": 2,
       "version_minor": 0
      },
      "text/plain": [
       "Dropdown(description='Goal city: ', index=5, options=('Arad', 'Bucharest', 'Craiova', 'Drobeta', 'Eforie', 'Fa…"
      ]
     },
     "metadata": {},
     "output_type": "display_data"
    },
    {
     "data": {
      "application/vnd.jupyter.widget-view+json": {
       "model_id": "0ecbf2f0a7e743e295416fa8e55fd0da",
       "version_major": 2,
       "version_minor": 0
      },
      "text/plain": [
       "interactive(children=(ToggleButton(value=False, description='Visualize'), Output()), _dom_classes=('widget-int…"
      ]
     },
     "metadata": {},
     "output_type": "display_data"
    },
    {
     "data": {
      "application/vnd.jupyter.widget-view+json": {
       "model_id": "6320f448dbe84ceaa8d8da67508d627e",
       "version_major": 2,
       "version_minor": 0
      },
      "text/plain": [
       "interactive(children=(IntSlider(value=0, description='iteration', max=1), Output()), _dom_classes=('widget-int…"
      ]
     },
     "metadata": {},
     "output_type": "display_data"
    }
   ],
   "source": [
    "all_node_colors = []\n",
    "# display_visual(user_input = True, algorithm = breadth_first_tree_search)\n",
    "display_visual(user_input = True)"
   ]
  },
  {
   "cell_type": "code",
   "execution_count": null,
   "metadata": {},
   "outputs": [],
   "source": []
  }
 ],
 "metadata": {
  "kernelspec": {
   "display_name": "Python 3",
   "language": "python",
   "name": "python3"
  },
  "language_info": {
   "codemirror_mode": {
    "name": "ipython",
    "version": 3
   },
   "file_extension": ".py",
   "mimetype": "text/x-python",
   "name": "python",
   "nbconvert_exporter": "python",
   "pygments_lexer": "ipython3",
   "version": "3.8.3"
  },
  "widgets": {
   "state": {
    "013d8df0a2ab4899b09f83aa70ce5d50": {
     "views": []
    },
    "01ee7dc2239c4b0095710436453b362d": {
     "views": []
    },
    "04d594ae6a704fc4b16895e6a7b85270": {
     "views": []
    },
    "052ea3e7259346a4b022ec4fef1fda28": {
     "views": [
      {
       "cell_index": 32
      }
     ]
    },
    "0ade4328785545c2b66d77e599a3e9da": {
     "views": [
      {
       "cell_index": 29
      }
     ]
    },
    "0b94d8de6b4e47f89b0382b60b775cbd": {
     "views": []
    },
    "0c63dcc0d11a451ead31a4c0c34d7b43": {
     "views": []
    },
    "0d91be53b6474cdeac3239fdffeab908": {
     "views": [
      {
       "cell_index": 39
      }
     ]
    },
    "0fe9c3b9b1264d4abd22aef40a9c1ab9": {
     "views": []
    },
    "10fd06131b05455d9f0a98072d7cebc6": {
     "views": []
    },
    "1193eaa60bb64cb790236d95bf11f358": {
     "views": [
      {
       "cell_index": 38
      }
     ]
    },
    "11b596cbf81a47aabccae723684ac3a5": {
     "views": []
    },
    "127ae5faa86f41f986c39afb320f2298": {
     "views": []
    },
    "16a9167ec7b4479e864b2a32e40825a1": {
     "views": [
      {
       "cell_index": 39
      }
     ]
    },
    "170e2e101180413f953a192a41ecbfcc": {
     "views": []
    },
    "181efcbccf89478792f0e38a25500e51": {
     "views": []
    },
    "1894a28092604d69b0d7d465a3b165b1": {
     "views": []
    },
    "1a56cc2ab5ae49ea8bf2a3f6ca2b1c36": {
     "views": []
    },
    "1cfd8f392548467696d8cd4fc534a6b4": {
     "views": []
    },
    "1e395e67fdec406f8698aa5922764510": {
     "views": []
    },
    "23509c6536404e96985220736d286183": {
     "views": []
    },
    "23bffaca1206421fb9ea589126e35438": {
     "views": []
    },
    "25330d0b799e4f02af5e510bc70494cf": {
     "views": []
    },
    "2ab8bf4795ac4240b70e1a94e14d1dd6": {
     "views": [
      {
       "cell_index": 30
      }
     ]
    },
    "2bd48f1234e4422aaedecc5815064181": {
     "views": []
    },
    "2d3a082066304c8ebf2d5003012596b4": {
     "views": []
    },
    "2dc962f16fd143c1851aaed0909f3963": {
     "views": [
      {
       "cell_index": 35
      }
     ]
    },
    "2f659054242a453da5ea0884de996008": {
     "views": []
    },
    "30a214881db545729c1b883878227e95": {
     "views": []
    },
    "3275b81616424947be98bf8fd3cd7b82": {
     "views": []
    },
    "330b52bc309d4b6a9b188fd9df621180": {
     "views": []
    },
    "3320648123f44125bcfda3b7c68febcf": {
     "views": []
    },
    "338e3b1562e747f197ab3ceae91e371f": {
     "views": []
    },
    "34658e2de2894f01b16cf89905760f14": {
     "views": [
      {
       "cell_index": 39
      }
     ]
    },
    "352f5fd9f698460ea372c6af57c5b478": {
     "views": []
    },
    "35dc16b828a74356b56cd01ff9ddfc09": {
     "views": []
    },
    "3805ce2994364bd1b259373d8798cc7a": {
     "views": []
    },
    "3d1f1f899cfe49aaba203288c61686ac": {
     "views": []
    },
    "3d7e943e19794e29b7058eb6bbe23c66": {
     "views": []
    },
    "3f6652b3f85740949b7711fbcaa509ba": {
     "views": []
    },
    "43e48664a76342c991caeeb2d5b17a49": {
     "views": [
      {
       "cell_index": 35
      }
     ]
    },
    "4662dec8595f45fb9ae061b2bdf44427": {
     "views": []
    },
    "47ae3d2269d94a95a567be21064eb98a": {
     "views": []
    },
    "49c49d665ba44746a1e1e9dc598bc411": {
     "views": [
      {
       "cell_index": 39
      }
     ]
    },
    "4a1c43b035f644699fd905d5155ad61f": {
     "views": [
      {
       "cell_index": 39
      }
     ]
    },
    "4eb88b6f6b4241f7b755f69b9e851872": {
     "views": []
    },
    "4fbb3861e50f41c688e9883da40334d4": {
     "views": []
    },
    "52d76de4ee8f4487b335a4a11726fbce": {
     "views": []
    },
    "53eccc8fc0ad461cb8277596b666f32a": {
     "views": [
      {
       "cell_index": 29
      }
     ]
    },
    "54d3a6067b594ad08907ce059d9f4a41": {
     "views": []
    },
    "612530d3edf8443786b3093ab612f88b": {
     "views": []
    },
    "613a133b6d1f45e0ac9c5c270bc408e0": {
     "views": []
    },
    "636caa7780614389a7f52ad89ea1c6e8": {
     "views": [
      {
       "cell_index": 39
      }
     ]
    },
    "63aa621196294629b884c896b6a034d8": {
     "views": []
    },
    "66d1d894cc7942c6a91f0630fc4321f9": {
     "views": []
    },
    "6775928a174b43ecbe12608772f1cb05": {
     "views": []
    },
    "6bce621c90d543bca50afbe0c489a191": {
     "views": []
    },
    "6ebbb8c7ec174c15a6ee79a3c5b36312": {
     "views": []
    },
    "743219b9d37e4f47a5f777bb41ad0a96": {
     "views": [
      {
       "cell_index": 29
      }
     ]
    },
    "774f464794cc409ca6d1106bcaac0cf1": {
     "views": []
    },
    "7ba3da40fb26490697fc64b3248c5952": {
     "views": []
    },
    "7e79fea4654f4bedb5969db265736c25": {
     "views": []
    },
    "85c82ed0844f4ae08a14fd750e55fc15": {
     "views": []
    },
    "86e8f92c1d584cdeb13b36af1b6ad695": {
     "views": [
      {
       "cell_index": 35
      }
     ]
    },
    "88485e72d2ec447ba7e238b0a6de2839": {
     "views": []
    },
    "892d7b895d3840f99504101062ba0f65": {
     "views": []
    },
    "89be4167713e488696a20b9b5ddac9bd": {
     "views": []
    },
    "8a24a07d166b45498b7d8b3f97c131eb": {
     "views": []
    },
    "8e7c7f3284ee45b38d95fe9070d5772f": {
     "views": []
    },
    "98985eefab414365991ed6844898677f": {
     "views": []
    },
    "98df98e5af87474d8b139cb5bcbc9792": {
     "views": []
    },
    "99f11243d387409bbad286dd5ecb1725": {
     "views": []
    },
    "9ab2d641b0be4cf8950be5ba72e5039f": {
     "views": []
    },
    "9b1ffbd1e7404cb4881380a99c7d11bc": {
     "views": []
    },
    "9c07ec6555cb4d0ba8b59007085d5692": {
     "views": []
    },
    "9cc80f47249b4609b98223ce71594a3d": {
     "views": []
    },
    "9d79bfd34d3640a3b7156a370d2aabae": {
     "views": []
    },
    "a015f138cbbe4a0cad4d72184762ed75": {
     "views": []
    },
    "a27d2f1eb3834c38baf1181b0de93176": {
     "views": []
    },
    "a29b90d050f3442a89895fc7615ccfee": {
     "views": [
      {
       "cell_index": 29
      }
     ]
    },
    "a725622cfc5b43b4ae14c74bc2ad7ad0": {
     "views": []
    },
    "ac2e05d7d7e945bf99862a2d9d1fa685": {
     "views": []
    },
    "b0bb2ca65caa47579a4d3adddd94504b": {
     "views": []
    },
    "b8995c40625d465489e1b7ec8014b678": {
     "views": []
    },
    "ba83da1373fe45d19b3c96a875f2f4fb": {
     "views": []
    },
    "baa0040d35c64604858c529418c22797": {
     "views": []
    },
    "badc9fd7b56346d6b6aea68bfa6d2699": {
     "views": [
      {
       "cell_index": 38
      }
     ]
    },
    "bdb41c7654e54c83a91452abc59141bd": {
     "views": []
    },
    "c2399056ef4a4aa7aa4e23a0f381d64a": {
     "views": [
      {
       "cell_index": 38
      }
     ]
    },
    "c73b47b242b4485fb1462abcd92dc7c9": {
     "views": []
    },
    "ce3f28a8aeee4be28362d068426a71f6": {
     "views": [
      {
       "cell_index": 32
      }
     ]
    },
    "d3067a6bb84544bba5f1abd241a72e55": {
     "views": []
    },
    "db13a2b94de34ce9bea721aaf971c049": {
     "views": []
    },
    "db468d80cb6e43b6b88455670b036618": {
     "views": []
    },
    "e2cb458522b4438ea3f9873b6e411acb": {
     "views": []
    },
    "e77dca31f1d94d4dadd3f95d2cdbf10e": {
     "views": []
    },
    "e7bffb1fed664dea90f749ea79dcc4f1": {
     "views": [
      {
       "cell_index": 39
      }
     ]
    },
    "e80abb145fce4e888072b969ba8f455a": {
     "views": []
    },
    "e839d0cf348c4c1b832fc1fc3b0bd3c9": {
     "views": []
    },
    "e948c6baadde46f69f105649555b84eb": {
     "views": []
    },
    "eb16e9da25bf4bef91a34b1d0565c774": {
     "views": []
    },
    "ec82b64048834eafa3e53733bb54a713": {
     "views": []
    },
    "edbb3a621c87445e9df4773cc60ec8d2": {
     "views": []
    },
    "ef6c99705936425a975e49b9e18ac267": {
     "views": []
    },
    "f1b494f025dd48d1ae58ae8e3e2ebf46": {
     "views": []
    },
    "f435b108c59c42989bf209a625a3a5b5": {
     "views": [
      {
       "cell_index": 32
      }
     ]
    },
    "f71ed7e15a314c28973943046c4529d6": {
     "views": []
    },
    "f81f726f001c4fb999851df532ed39f2": {
     "views": []
    }
   },
   "version": "1.1.1"
  }
 },
 "nbformat": 4,
 "nbformat_minor": 1
}
