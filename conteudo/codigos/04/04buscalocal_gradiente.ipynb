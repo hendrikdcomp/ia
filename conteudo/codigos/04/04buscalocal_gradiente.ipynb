{
  "cells": [
    {
      "cell_type": "markdown",
      "metadata": {
        "id": "YhdfOX1f96_N"
      },
      "source": [
        "# Solução do problema do Caixeiro Viajante (TSP)"
      ]
    },
    {
      "cell_type": "markdown",
      "metadata": {
        "id": "WXF1wtUr96_V"
      },
      "source": [
        "### Uso de três técnicas diferentes\n",
        "1. Busca exaustiva\n",
        "2. Hill Climbing\n",
        "3. Simulated Annealing"
      ]
    },
    {
      "cell_type": "code",
      "execution_count": 184,
      "metadata": {
        "id": "4wPS9Rc-96_W"
      },
      "outputs": [],
      "source": [
        "# Stephen Marsland, 2008, 2014\n",
        "# Adaptação e correção de bugs por Hendrik Macedo\n",
        "\n",
        "import numpy as np\n",
        "import time\n",
        "\n",
        "def makeTSP(nCities):\n",
        "\tpositions = 2*np.random.rand(nCities,2)-1;\n",
        "\tdistances = np.zeros((nCities,nCities))\n",
        "\n",
        "\tfor i in range(nCities):\n",
        "\t\tfor j in range(i+1,nCities):\n",
        "\t\t\tdistances[i,j] = np.sqrt((positions[i,0] - positions[j,0])**2 + (positions[i,1] - positions[j,1])**2);\n",
        "\t\t\tdistances[j,i] = distances[i,j];\n",
        "\n",
        "\treturn distances\n",
        "\n",
        "def permutation(order):\n",
        "\torder = tuple(order)\n",
        "\tif len(order)==1:\n",
        "\t\tyield order\n",
        "\telse:\n",
        "\t\tfor i in range(len(order)):\n",
        "\t\t\trest = order[:i] + order[i+1:]\n",
        "\t\t\tmove = (order[i],)\n",
        "\t\t\tfor smaller in permutation(rest):\n",
        "\t\t\t\tyield move + smaller\n",
        "\n",
        "def parameters(nCities):\n",
        "#\timport time\n",
        "#\tnCities = ncities\n",
        "\tdistances = makeTSP(nCities)\n",
        "\treturn distances"
      ]
    },
    {
      "cell_type": "code",
      "source": [
        "def exhaustive(distances):\n",
        "\tnCities = np.shape(distances)[0]\n",
        "\n",
        "\tcityOrder = np.arange(nCities)\n",
        "\n",
        "\tdistanceTravelled = 0\n",
        "\tfor i in range(nCities-1):\n",
        "\t\tdistanceTravelled += distances[cityOrder[i],cityOrder[i+1]]\n",
        "\tdistanceTravelled += distances[cityOrder[nCities-1],0]\n",
        "\n",
        "\tfor newOrder in permutation(range(nCities)):\n",
        "\t\tpossibleDistanceTravelled = 0\n",
        "\t\tfor i in range(nCities-1):\n",
        "\t\t\tpossibleDistanceTravelled += distances[newOrder[i],newOrder[i+1]]\n",
        "\t\tpossibleDistanceTravelled += distances[newOrder[nCities-1],0]\n",
        "\t\t\t \n",
        "\t\tif possibleDistanceTravelled < distanceTravelled:\n",
        "\t\t\tdistanceTravelled = possibleDistanceTravelled\n",
        "\t\t\tcityOrder = newOrder\n",
        "\n",
        "\treturn cityOrder, distanceTravelled"
      ],
      "metadata": {
        "id": "DpRv1DXFNhty"
      },
      "execution_count": 185,
      "outputs": []
    },
    {
      "cell_type": "code",
      "source": [
        "def hillClimbing(distances):\n",
        "\n",
        "  nCities = np.shape(distances)[0]\n",
        "\n",
        "  cityOrder = np.arange(nCities)\n",
        "  np.random.shuffle(cityOrder)\n",
        "\n",
        "  distanceTravelled = 0\n",
        "  for i in range(nCities-1):\n",
        "    distanceTravelled += distances[cityOrder[i],cityOrder[i+1]]\n",
        "  distanceTravelled += distances[cityOrder[nCities-1],0]\n",
        "\n",
        "  while True:\n",
        "\n",
        "    neighbors = []\n",
        "    for i in range(nCities-1):\n",
        "      for j in range(nCities):\n",
        "        neighbor = cityOrder.copy()\n",
        "        neighbor[i] = cityOrder[j]\n",
        "        neighbor[j] = cityOrder[i]\n",
        "        neighbors.append(neighbor)\n",
        "\n",
        "    neighbors = np.array(neighbors)\n",
        "\n",
        "    best = []\n",
        "    for i in range(len(neighbors)):\n",
        "      newDistanceTravelled = 0\n",
        "      for j in range(nCities-1):\n",
        "        newDistanceTravelled += distances[neighbors[i][j],neighbors[i][j+1]]\n",
        "      newDistanceTravelled += distances[cityOrder[nCities-1],0]\n",
        "      if newDistanceTravelled < distanceTravelled:\n",
        "        best = neighbors[i]\n",
        "        distanceTravelled = newDistanceTravelled\n",
        "          \n",
        "    if len(best) == 0:   \n",
        "      break\n",
        "\n",
        "    cityOrder = best\n",
        "\n",
        "  return cityOrder, distanceTravelled"
      ],
      "metadata": {
        "id": "2nBZ2TCSNrLo"
      },
      "execution_count": 206,
      "outputs": []
    },
    {
      "cell_type": "code",
      "source": [
        "def simulatedAnnealing(distances):\n",
        "\n",
        "  nCities = np.shape(distances)[0]\n",
        "\n",
        "  cityOrder = np.arange(nCities)\n",
        "  np.random.shuffle(cityOrder)\n",
        "\n",
        "  distanceTravelled = 0\n",
        "  for i in range(nCities-1):\n",
        "    distanceTravelled += distances[cityOrder[i],cityOrder[i+1]]\n",
        "  distanceTravelled += distances[cityOrder[nCities-1],0]\n",
        "\n",
        "  T = 500\n",
        "  c = 0.8\n",
        "  time = 1000\n",
        "\n",
        "\t#while T>1:\n",
        "  for i in range(time):\n",
        "    if T < 1:\n",
        "      return cityOrder, distanceTravelled\n",
        "    # Choose cities to swap\n",
        "    city1 = np.random.randint(nCities)\n",
        "    city2 = np.random.randint(nCities)\n",
        "\n",
        "    if city1 != city2:\n",
        "      # Reorder the set of cities\n",
        "      possibleCityOrder = cityOrder.copy()\n",
        "      possibleCityOrder = np.where(possibleCityOrder==city1,-1,possibleCityOrder)\n",
        "      possibleCityOrder = np.where(possibleCityOrder==city2,city1,possibleCityOrder)\n",
        "      possibleCityOrder = np.where(possibleCityOrder==-1,city2,possibleCityOrder)\n",
        "\n",
        "      # Work out the new distances\n",
        "      # This can be done more efficiently\n",
        "      newDistanceTravelled = 0\n",
        "      for j in range(nCities-1):\n",
        "        newDistanceTravelled += distances[possibleCityOrder[j],possibleCityOrder[j+1]]\n",
        "      newDistanceTravelled += distances[cityOrder[nCities-1],0]   \n",
        "      if (newDistanceTravelled < distanceTravelled) or ((distanceTravelled - newDistanceTravelled) > T*np.log(np.random.rand())):\n",
        "        distanceTravelled = newDistanceTravelled\n",
        "        cityOrder = possibleCityOrder\n",
        "\n",
        "      # Annealing schedule\n",
        "      T = c*T\n",
        "\n",
        "  return cityOrder, distanceTravelled"
      ],
      "metadata": {
        "id": "KkvEt1zoNwCA"
      },
      "execution_count": 187,
      "outputs": []
    },
    {
      "cell_type": "code",
      "source": [
        "def runExaustive(distances):\n",
        "\tprint (\"Busca exaustiva\")\n",
        "\tstart = time.time()\n",
        "\tresult = exhaustive(distances)\n",
        "\tfinish = time.time()\n",
        "\tprint (\"Ordem:\",result[0],\" Distancia:\",result[1])\n",
        "\tprint (\"Tempo:\",finish-start)\n",
        "\n",
        "def runHill(distances):\n",
        "\tprint (\"\\nHill Climbing\")\n",
        "\tstart = time.time()\n",
        "\tresult = hillClimbing(distances)\n",
        "\tfinish = time.time()\n",
        "\tprint (\"Ordem:\",result[0],\" Distancia:\",result[1])\n",
        "\tprint (\"Tempo:\",finish-start)\n",
        "\n",
        "def runSimAnnealing(distances):\n",
        "\tprint (\"\\nSimulated Annealing\")\n",
        "\tstart = time.time()\n",
        "\tresult = simulatedAnnealing(distances)\n",
        "\tfinish = time.time()\n",
        "\tprint (\"Ordem:\",result[0],\" Distancia:\",result[1])\n",
        "\tprint (\"Tempo:\",finish-start)\n",
        "\n",
        "#runAll()"
      ],
      "metadata": {
        "id": "4948C04iOBZf"
      },
      "execution_count": 188,
      "outputs": []
    },
    {
      "cell_type": "code",
      "execution_count": 200,
      "metadata": {
        "id": "xZkV-bfA96_d"
      },
      "outputs": [],
      "source": [
        "distances = parameters(5)"
      ]
    },
    {
      "cell_type": "code",
      "execution_count": 208,
      "metadata": {
        "colab": {
          "base_uri": "https://localhost:8080/"
        },
        "id": "QBTMcLkN96_i",
        "outputId": "861b0ca5-0337-4037-ec3f-b3f73174a4bd"
      },
      "outputs": [
        {
          "output_type": "stream",
          "name": "stdout",
          "text": [
            "Busca exaustiva\n",
            "Ordem: (3, 2, 1, 4, 0)  Distancia: 3.1427984024999684\n",
            "Tempo: 0.0007443428039550781\n"
          ]
        }
      ],
      "source": [
        "runExaustive(distances)"
      ]
    },
    {
      "cell_type": "code",
      "execution_count": 211,
      "metadata": {
        "colab": {
          "base_uri": "https://localhost:8080/"
        },
        "id": "1O7lK55G96_g",
        "outputId": "a97751ea-851d-4b59-d282-aa227f91f535"
      },
      "outputs": [
        {
          "output_type": "stream",
          "name": "stdout",
          "text": [
            "\n",
            "Hill Climbing\n",
            "Ordem: [3 2 1 4 0]  Distancia: 3.1427984024999684\n",
            "Tempo: 0.003197193145751953\n"
          ]
        }
      ],
      "source": [
        "runHill(distances)"
      ]
    },
    {
      "cell_type": "code",
      "execution_count": 219,
      "metadata": {
        "colab": {
          "base_uri": "https://localhost:8080/"
        },
        "id": "g8vKYKtf96_h",
        "outputId": "42e06745-8be3-4d2b-d883-82c34f039032"
      },
      "outputs": [
        {
          "output_type": "stream",
          "name": "stdout",
          "text": [
            "\n",
            "Simulated Annealing\n",
            "Ordem: [3 2 4 1 0]  Distancia: 3.177712659543304\n",
            "Tempo: 0.0012714862823486328\n"
          ]
        }
      ],
      "source": [
        "runSimAnnealing(distances)"
      ]
    },
    {
      "cell_type": "code",
      "execution_count": null,
      "metadata": {
        "id": "EXDOFwH-96_j"
      },
      "outputs": [],
      "source": []
    }
  ],
  "metadata": {
    "kernelspec": {
      "display_name": "Python 3",
      "language": "python",
      "name": "python3"
    },
    "language_info": {
      "codemirror_mode": {
        "name": "ipython",
        "version": 3
      },
      "file_extension": ".py",
      "mimetype": "text/x-python",
      "name": "python",
      "nbconvert_exporter": "python",
      "pygments_lexer": "ipython3",
      "version": "3.8.5"
    },
    "colab": {
      "provenance": []
    }
  },
  "nbformat": 4,
  "nbformat_minor": 0
}