{
 "cells": [
  {
   "cell_type": "markdown",
   "metadata": {},
   "source": [
    "# Solução do problema do Caixeiro Viajante (TSP)"
   ]
  },
  {
   "cell_type": "markdown",
   "metadata": {},
   "source": [
    "### Uso de quatro técnicas diferentes\n",
    "1. Busca exaustiva\n",
    "2. Greedy\n",
    "3. Hill Climbing\n",
    "4. Simulated Annealing"
   ]
  },
  {
   "cell_type": "code",
   "execution_count": 1,
   "metadata": {},
   "outputs": [],
   "source": [
    "# Stephen Marsland, 2008, 2014\n",
    "# Adaptação e correção de bugs por Hendrik Macedo, 2017\n",
    "\n",
    "import numpy as np\n",
    "import time\n",
    "\n",
    "def makeTSP(nCities):\n",
    "\tpositions = 2*np.random.rand(nCities,2)-1;\n",
    "\tdistances = np.zeros((nCities,nCities))\n",
    "\n",
    "\tfor i in range(nCities):\n",
    "\t\tfor j in range(i+1,nCities):\n",
    "\t\t\tdistances[i,j] = np.sqrt((positions[i,0] - positions[j,0])**2 + (positions[i,1] - positions[j,1])**2);\n",
    "\t\t\tdistances[j,i] = distances[i,j];\n",
    "\n",
    "\treturn distances\n",
    "\n",
    "def exhaustive(distances):\n",
    "\tnCities = np.shape(distances)[0]\n",
    "\n",
    "\tcityOrder = np.arange(nCities)\n",
    "\n",
    "\tdistanceTravelled = 0\n",
    "\tfor i in range(nCities-1):\n",
    "\t\tdistanceTravelled += distances[cityOrder[i],cityOrder[i+1]]\n",
    "\tdistanceTravelled += distances[cityOrder[nCities-1],0]\n",
    "\n",
    "\tfor newOrder in permutation(range(nCities)):\n",
    "\t\tpossibleDistanceTravelled = 0\n",
    "\t\tfor i in range(nCities-1):\n",
    "\t\t\tpossibleDistanceTravelled += distances[newOrder[i],newOrder[i+1]]\n",
    "\t\tpossibleDistanceTravelled += distances[newOrder[nCities-1],0]\n",
    "\t\t\t \n",
    "\t\tif possibleDistanceTravelled < distanceTravelled:\n",
    "\t\t\tdistanceTravelled = possibleDistanceTravelled\n",
    "\t\t\tcityOrder = newOrder\n",
    "\n",
    "\treturn cityOrder, distanceTravelled\n",
    "\t\n",
    "def permutation(order):\n",
    "\torder = tuple(order)\n",
    "\tif len(order)==1:\n",
    "\t\tyield order\n",
    "\telse:\n",
    "\t\tfor i in range(len(order)):\n",
    "\t\t\trest = order[:i] + order[i+1:]\n",
    "\t\t\tmove = (order[i],)\n",
    "\t\t\tfor smaller in permutation(rest):\n",
    "\t\t\t\tyield move + smaller\n",
    "\t\t\n",
    "def greedy(distances):\n",
    "\tnCities = np.shape(distances)[0]\n",
    "\tdistanceTravelled = 0\n",
    "\t\n",
    "\t# Need a version of the matrix we can trash\n",
    "\tdist = distances.copy()\n",
    "\n",
    "\tcityOrder = np.zeros(nCities, dtype=int)\n",
    "\tcityOrder[0] = np.random.randint(nCities)\n",
    "\tdist[:,int(cityOrder[0])] = np.Inf\n",
    "\n",
    "\tfor i in range(nCities-1):\n",
    "\t\tcityOrder[i+1] = np.argmin(dist[cityOrder[i],:])\n",
    "\t\tdistanceTravelled  += dist[cityOrder[i],cityOrder[i+1]]\n",
    "\t\t# Now exclude the chance of travelling to that city again\n",
    "\t\tdist[:,cityOrder[i+1]] = np.Inf\n",
    "\t\n",
    "\t# Now return to the original city\n",
    "\tdistanceTravelled += distances[cityOrder[nCities-1],0]\n",
    "\n",
    "\treturn cityOrder, distanceTravelled\n",
    "\n",
    "def hillClimbing(distances):\n",
    "\n",
    "\tnCities = np.shape(distances)[0]\n",
    "\n",
    "\tcityOrder = np.arange(nCities)\n",
    "\tnp.random.shuffle(cityOrder)\n",
    "\n",
    "\tdistanceTravelled = 0\n",
    "\tfor i in range(nCities-1):\n",
    "\t\tdistanceTravelled += distances[cityOrder[i],cityOrder[i+1]]\n",
    "\tdistanceTravelled += distances[cityOrder[nCities-1],0]\n",
    "\n",
    "\tfor i in range(1000):\n",
    "\t\t# Choose cities to swap\n",
    "\t\tcity1 = np.random.randint(nCities)\n",
    "\t\tcity2 = np.random.randint(nCities)\n",
    "\n",
    "\t\tif city1 != city2:\n",
    "\t\t\t# Reorder the set of cities\n",
    "\t\t\tpossibleCityOrder = cityOrder.copy()\n",
    "\t\t\tpossibleCityOrder = np.where(possibleCityOrder==city1,-1,possibleCityOrder)\n",
    "\t\t\tpossibleCityOrder = np.where(possibleCityOrder==city2,city1,possibleCityOrder)\n",
    "\t\t\tpossibleCityOrder = np.where(possibleCityOrder==-1,city2,possibleCityOrder)\n",
    "\n",
    "\t\t\t# Work out the new distances\n",
    "\t\t\t# This can be done more efficiently\n",
    "\t\t\tnewDistanceTravelled = 0\n",
    "\t\t\tfor j in range(nCities-1):\n",
    "\t\t\t\tnewDistanceTravelled += distances[possibleCityOrder[j],possibleCityOrder[j+1]]\n",
    "\t\t\tdistanceTravelled += distances[cityOrder[nCities-1],0]\n",
    "\t\n",
    "\t\t\tif newDistanceTravelled < distanceTravelled:\n",
    "\t\t\t\tdistanceTravelled = newDistanceTravelled\n",
    "\t\t\t\tcityOrder = possibleCityOrder\n",
    "\n",
    "\treturn cityOrder, distanceTravelled\n",
    "\t\n",
    "\n",
    "def simulatedAnnealing(distances):\n",
    "\n",
    "\tnCities = np.shape(distances)[0]\n",
    "\n",
    "\tcityOrder = np.arange(nCities)\n",
    "\tnp.random.shuffle(cityOrder)\n",
    "\n",
    "\tdistanceTravelled = 0\n",
    "\tfor i in range(nCities-1):\n",
    "\t\tdistanceTravelled += distances[cityOrder[i],cityOrder[i+1]]\n",
    "\tdistanceTravelled += distances[cityOrder[nCities-1],0]\n",
    "\n",
    "\tT = 500\n",
    "\tc = 0.8\n",
    "\tnTests = 1000\n",
    "\n",
    "\t#while T>1:\n",
    "\tfor i in range(nTests):\n",
    "\t\t\t# Choose cities to swap\n",
    "\t\t\tcity1 = np.random.randint(nCities)\n",
    "\t\t\tcity2 = np.random.randint(nCities)\n",
    "\n",
    "\t\t\tif city1 != city2:\n",
    "\t\t\t\t# Reorder the set of cities\n",
    "\t\t\t\tpossibleCityOrder = cityOrder.copy()\n",
    "\t\t\t\tpossibleCityOrder = np.where(possibleCityOrder==city1,-1,possibleCityOrder)\n",
    "\t\t\t\tpossibleCityOrder = np.where(possibleCityOrder==city2,city1,possibleCityOrder)\n",
    "\t\t\t\tpossibleCityOrder = np.where(possibleCityOrder==-1,city2,possibleCityOrder)\n",
    "\n",
    "\t\t\t\t# Work out the new distances\n",
    "\t\t\t\t# This can be done more efficiently\n",
    "\t\t\t\tnewDistanceTravelled = 0\n",
    "\t\t\t\tfor j in range(nCities-1):\n",
    "\t\t\t\t\tnewDistanceTravelled += distances[possibleCityOrder[j],possibleCityOrder[j+1]]\n",
    "\t\t\t\tdistanceTravelled += distances[cityOrder[nCities-1],0]\n",
    "\n",
    "\t\t\t\tif (newDistanceTravelled < distanceTravelled) or ((distanceTravelled - newDistanceTravelled) > T*np.log(np.random.rand())):\n",
    "\t\t\t\t\tdistanceTravelled = newDistanceTravelled\n",
    "\t\t\t\t\tcityOrder = possibleCityOrder\n",
    "\n",
    "\t\t\t# Annealing schedule\n",
    "\t\t\tT = c*T\n",
    "\n",
    "\treturn cityOrder, distanceTravelled\n",
    "\n",
    "def parameters(nCities):\n",
    "#\timport time\n",
    "#\tnCities = ncities\n",
    "\tdistances = makeTSP(nCities)\n",
    "\treturn distances\n",
    "    \n",
    "def runExaustive(distances):\n",
    "\tprint (\"Busca exaustiva\")\n",
    "\tstart = time.time()\n",
    "\tresult = exhaustive(distances)\n",
    "\tfinish = time.time()\n",
    "\tprint (\"Ordem:\",result[0],\" Distancia:\",result[1])\n",
    "\tprint (\"Tempo:\",finish-start)\n",
    "\n",
    "def runGreedy(distances):\n",
    "\tprint (\"\\nGreedy\")\n",
    "\tstart = time.time()\n",
    "\tresult = greedy(distances)\n",
    "\tfinish = time.time()\n",
    "\tprint (\"Ordem:\",result[0],\" Distancia:\",result[1])\n",
    "\tprint (\"Tempo:\",finish-start)\n",
    "\n",
    "def runHill(distances):\n",
    "\tprint (\"\\nHill Climbing\")\n",
    "\tstart = time.time()\n",
    "\tresult = hillClimbing(distances)\n",
    "\tfinish = time.time()\n",
    "\tprint (\"Ordem:\",result[0],\" Distancia:\",result[1])\n",
    "\tprint (\"Tempo:\",finish-start)\n",
    "\n",
    "def runSimAnnealing(distances):\n",
    "\tprint (\"\\nSimulated Annealing\")\n",
    "\tstart = time.time()\n",
    "\tresult = simulatedAnnealing(distances)\n",
    "\tfinish = time.time()\n",
    "\tprint (\"Ordem:\",result[0],\" Distancia:\",result[1])\n",
    "\tprint (\"Tempo:\",finish-start)\n",
    "\n",
    "#runAll()"
   ]
  },
  {
   "cell_type": "code",
   "execution_count": 2,
   "metadata": {},
   "outputs": [],
   "source": [
    "distances = parameters(10)"
   ]
  },
  {
   "cell_type": "code",
   "execution_count": 3,
   "metadata": {},
   "outputs": [
    {
     "name": "stdout",
     "output_type": "stream",
     "text": [
      "\n",
      "Greedy\n",
      "Ordem: [2 4 0 1 8 3 5 7 9 6]  Distancia: 5.063013761323302\n",
      "Tempo: 0.00022602081298828125\n"
     ]
    }
   ],
   "source": [
    "runGreedy(distances)"
   ]
  },
  {
   "cell_type": "code",
   "execution_count": 4,
   "metadata": {},
   "outputs": [
    {
     "name": "stdout",
     "output_type": "stream",
     "text": [
      "\n",
      "Hill Climbing\n",
      "Ordem: [5 6 9 7 4 2 1 0 8 3]  Distancia: 6.50705726882019\n",
      "Tempo: 0.04918622970581055\n"
     ]
    }
   ],
   "source": [
    "runHill(distances)"
   ]
  },
  {
   "cell_type": "code",
   "execution_count": 5,
   "metadata": {},
   "outputs": [
    {
     "name": "stdout",
     "output_type": "stream",
     "text": [
      "\n",
      "Simulated Annealing\n",
      "Ordem: [1 0 2 4 9 5 7 6 8 3]  Distancia: 6.474767251545515\n",
      "Tempo: 0.051300764083862305\n"
     ]
    }
   ],
   "source": [
    "runSimAnnealing(distances)"
   ]
  },
  {
   "cell_type": "code",
   "execution_count": 6,
   "metadata": {},
   "outputs": [
    {
     "name": "stdout",
     "output_type": "stream",
     "text": [
      "Busca exaustiva\n",
      "Ordem: (2, 6, 9, 7, 5, 3, 8, 1, 4, 0)  Distancia: 4.455394180099353\n",
      "Tempo: 36.366687297821045\n"
     ]
    }
   ],
   "source": [
    "runExaustive(distances)"
   ]
  },
  {
   "cell_type": "code",
   "execution_count": null,
   "metadata": {},
   "outputs": [],
   "source": []
  }
 ],
 "metadata": {
  "kernelspec": {
   "display_name": "Python 3",
   "language": "python",
   "name": "python3"
  },
  "language_info": {
   "codemirror_mode": {
    "name": "ipython",
    "version": 3
   },
   "file_extension": ".py",
   "mimetype": "text/x-python",
   "name": "python",
   "nbconvert_exporter": "python",
   "pygments_lexer": "ipython3",
   "version": "3.8.5"
  }
 },
 "nbformat": 4,
 "nbformat_minor": 2
}
