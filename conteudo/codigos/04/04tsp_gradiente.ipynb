{
  "cells": [
    {
      "cell_type": "markdown",
      "metadata": {
        "id": "YhdfOX1f96_N"
      },
      "source": [
        "# Solução do problema do Caixeiro Viajante (TSP)"
      ]
    },
    {
      "cell_type": "markdown",
      "metadata": {
        "id": "WXF1wtUr96_V"
      },
      "source": [
        "### Uso de três técnicas diferentes\n",
        "1. Busca exaustiva\n",
        "2. Hill Climbing\n",
        "3. Simulated Annealing"
      ]
    },
    {
      "cell_type": "code",
      "execution_count": null,
      "metadata": {
        "id": "4wPS9Rc-96_W"
      },
      "outputs": [],
      "source": [
        "# Stephen Marsland, 2008, 2014\n",
        "# Adaptação e correção de bugs por Hendrik Macedo\n",
        "\n",
        "import numpy as np\n",
        "import time\n",
        "\n",
        "def makeTSP(nCities):\n",
        "\tpositions = 2*np.random.rand(nCities,2)-1;\n",
        "\tdistances = np.zeros((nCities,nCities))\n",
        "\n",
        "\tfor i in range(nCities):\n",
        "\t\tfor j in range(i+1,nCities):\n",
        "\t\t\tdistances[i,j] = np.sqrt((positions[i,0] - positions[j,0])**2 + (positions[i,1] - positions[j,1])**2);\n",
        "\t\t\tdistances[j,i] = distances[i,j];\n",
        "\t# distances[0,0] = 0\n",
        "\t# distances[0,1] = 1\n",
        "\t# distances[0,2] = 2\n",
        "\t# distances[0,3] = 3\n",
        "\t# distances[0,4] = 4\n",
        "\t# distances[1,1] = 0\n",
        "\t# distances[1,2] = 5\n",
        "\t# distances[1,3] = 6\n",
        "\t# distances[1,4] = 7\n",
        "\t# distances[2,2] = 0\n",
        "\t# distances[2,3] = 8\n",
        "\t# distances[2,4] = 9\n",
        "\t# distances[3,3] = 0\n",
        "\t# distances[3,4] = 1\n",
        "\t# distances[4,4] = 0\n",
        "\t# for i in range(nCities):\n",
        "\t# \tfor j in range(i+1,nCities):\n",
        "\t# \t\tdistances[j,i] = distances[i,j];\n",
        "\n",
        "\treturn distances\n",
        "\n",
        "def permutation(order):\n",
        "\torder = tuple(order)\n",
        "\tif len(order)==1:\n",
        "\t\tyield order\n",
        "\telse:\n",
        "\t\tfor i in range(len(order)):\n",
        "\t\t\trest = order[:i] + order[i+1:]\n",
        "\t\t\tmove = (order[i],)\n",
        "\t\t\tfor smaller in permutation(rest):\n",
        "\t\t\t\tyield move + smaller\n",
        "\n",
        "def parameters(nCities):\n",
        "\tdistances = makeTSP(nCities)\n",
        "\treturn distances"
      ]
    },
    {
      "cell_type": "code",
      "execution_count": null,
      "metadata": {
        "id": "DpRv1DXFNhty"
      },
      "outputs": [],
      "source": [
        "def exhaustive(distances):\n",
        "\tnCities = np.shape(distances)[0]\n",
        "\n",
        "\tcityOrder = np.arange(nCities)\n",
        "\n",
        "\tdistanceTravelled = 0\n",
        "\tfor i in range(nCities-1):\n",
        "\t\tdistanceTravelled += distances[cityOrder[i],cityOrder[i+1]]\n",
        "\tdistanceTravelled += distances[cityOrder[nCities-1],cityOrder[0]]\n",
        "\n",
        "\tfor newOrder in permutation(range(nCities)):\n",
        "\t\tpossibleDistanceTravelled = 0\n",
        "\t\tfor i in range(nCities-1):\n",
        "\t\t\tpossibleDistanceTravelled += distances[newOrder[i],newOrder[i+1]]\n",
        "\t\tpossibleDistanceTravelled += distances[newOrder[nCities-1],newOrder[0]]\n",
        "\t\t\t\t\n",
        "\t\tif possibleDistanceTravelled < distanceTravelled:\n",
        "\t\t\tdistanceTravelled = possibleDistanceTravelled\n",
        "\t\t\tcityOrder = newOrder\n",
        "\n",
        "\treturn cityOrder, distanceTravelled"
      ]
    },
    {
      "cell_type": "code",
      "execution_count": null,
      "metadata": {
        "id": "2nBZ2TCSNrLo"
      },
      "outputs": [],
      "source": [
        "def hillClimbing(distances):\n",
        "\n",
        "  nCities = np.shape(distances)[0]\n",
        "\n",
        "  cityOrder = np.arange(nCities)\n",
        "  np.random.shuffle(cityOrder)\n",
        "\n",
        "  distanceTravelled = 0\n",
        "  for i in range(nCities-1):\n",
        "    distanceTravelled += distances[cityOrder[i],cityOrder[i+1]]\n",
        "  distanceTravelled += distances[cityOrder[nCities-1],cityOrder[0]]\n",
        "\n",
        "  while True:\n",
        "\n",
        "    neighbors = []\n",
        "    for i in range(nCities-1):\n",
        "      for j in range(nCities):\n",
        "        neighbor = cityOrder.copy()\n",
        "        neighbor[i] = cityOrder[j]\n",
        "        neighbor[j] = cityOrder[i]\n",
        "        neighbors.append(neighbor)\n",
        "\n",
        "    neighbors = np.array(neighbors)\n",
        "\n",
        "    best = []\n",
        "    for i in range(len(neighbors)):\n",
        "      newDistanceTravelled = 0\n",
        "      for j in range(nCities-1):\n",
        "        newDistanceTravelled += distances[neighbors[i][j],neighbors[i][j+1]]\n",
        "      newDistanceTravelled += distances[neighbors[i][nCities-1],neighbors[i][0]]\n",
        "      if newDistanceTravelled < distanceTravelled:\n",
        "        best = neighbors[i]\n",
        "        distanceTravelled = newDistanceTravelled\n",
        "          \n",
        "    if len(best) == 0:  \n",
        "      break\n",
        "    cityOrder = best\n",
        "\n",
        "  return cityOrder, distanceTravelled"
      ]
    },
    {
      "cell_type": "code",
      "execution_count": null,
      "metadata": {
        "id": "KkvEt1zoNwCA"
      },
      "outputs": [],
      "source": [
        "def simulatedAnnealing(distances):\n",
        "\n",
        "  nCities = np.shape(distances)[0]\n",
        "\n",
        "  cityOrder = np.arange(nCities)\n",
        "  np.random.shuffle(cityOrder)\n",
        "\n",
        "  distanceTravelled = 0\n",
        "  for i in range(nCities-1):\n",
        "    distanceTravelled += distances[cityOrder[i],cityOrder[i+1]]\n",
        "  distanceTravelled += distances[cityOrder[nCities-1],cityOrder[0]]\n",
        "\n",
        "  T = 1000000\n",
        "  c = 0.95\n",
        "\n",
        "  while T>1:\n",
        "  #for i in range(time):\n",
        "    # if T < 1:\n",
        "    #   return cityOrder, distanceTravelled\n",
        "    # Choose cities to swap\n",
        "    city1 = np.random.randint(nCities)\n",
        "    city2 = np.random.randint(nCities)\n",
        "\n",
        "    if city1 != city2:\n",
        "      # Reorder the set of cities\n",
        "      possibleCityOrder = cityOrder.copy()\n",
        "      possibleCityOrder = np.where(possibleCityOrder==city1,-1,possibleCityOrder)\n",
        "      possibleCityOrder = np.where(possibleCityOrder==city2,city1,possibleCityOrder)\n",
        "      possibleCityOrder = np.where(possibleCityOrder==-1,city2,possibleCityOrder)\n",
        "\n",
        "      # Work out the new distances\n",
        "      # This can be done more efficiently\n",
        "      newDistanceTravelled = 0\n",
        "      for j in range(nCities-1):\n",
        "        newDistanceTravelled += distances[possibleCityOrder[j],possibleCityOrder[j+1]]\n",
        "      newDistanceTravelled += distances[possibleCityOrder[nCities-1],possibleCityOrder[0]]  \n",
        "      rnd = np.random.rand()\n",
        "      Tln = T*np.log(rnd)\n",
        "      dE = distanceTravelled - newDistanceTravelled\n",
        "      if (dE >= 0) or (dE > Tln):\n",
        "        distanceTravelled = newDistanceTravelled\n",
        "        cityOrder = possibleCityOrder\n",
        "\n",
        "      # Annealing schedule\n",
        "      T = c*T\n",
        "\n",
        "  return cityOrder, distanceTravelled"
      ]
    },
    {
      "cell_type": "code",
      "execution_count": null,
      "metadata": {
        "id": "4948C04iOBZf"
      },
      "outputs": [],
      "source": [
        "def runExaustive(distances):\n",
        "\tprint (\"Busca exaustiva\")\n",
        "\tstart = time.time()\n",
        "\tresult = exhaustive(distances)\n",
        "\tfinish = time.time()\n",
        "\tprint (\"Ordem:\",result[0],\" Distancia:\",result[1])\n",
        "\tprint (\"Tempo:\",finish-start)\n",
        "\n",
        "def runHill(distances):\n",
        "\tprint (\"\\nHill Climbing\")\n",
        "\tstart = time.time()\n",
        "\tresult = hillClimbing(distances)\n",
        "\tfinish = time.time()\n",
        "\tprint (\"Ordem:\",result[0],\" Distancia:\",result[1])\n",
        "\tprint (\"Tempo:\",finish-start)\n",
        "\n",
        "def runSimAnnealing(distances):\n",
        "\tprint (\"\\nSimulated Annealing\")\n",
        "\tstart = time.time()\n",
        "\tresult = simulatedAnnealing(distances)\n",
        "\tfinish = time.time()\n",
        "\tprint (\"Ordem:\",result[0],\" Distancia:\",result[1])\n",
        "\tprint (\"Tempo:\",finish-start)\n",
        "\n",
        "#runAll()"
      ]
    },
    {
      "cell_type": "code",
      "execution_count": null,
      "metadata": {
        "id": "xZkV-bfA96_d",
        "outputId": "ca7e438b-0f33-4988-8d93-fbf14cf6741d"
      },
      "outputs": [
        {
          "name": "stdout",
          "output_type": "stream",
          "text": [
            "[[0.         1.40892178 1.03751508 2.14518012 2.04942364 1.18092471\n",
            "  1.05695143 2.35950869 1.57011862 1.27777732]\n",
            " [1.40892178 0.         0.37657206 1.14425209 1.25235359 0.96320685\n",
            "  0.52173719 1.18442561 0.16740816 0.14416597]\n",
            " [1.03751508 0.37657206 0.         1.29826707 1.32287752 0.76336436\n",
            "  0.38403897 1.42324569 0.53328008 0.24038935]\n",
            " [2.14518012 1.14425209 1.29826707 0.         0.29879056 1.0328802\n",
            "  1.62666955 0.34339978 1.04339266 1.15486915]\n",
            " [2.04942364 1.25235359 1.32287752 0.29879056 0.         0.88177785\n",
            "  1.68445264 0.63833013 1.18547006 1.22865262]\n",
            " [1.18092471 0.96320685 0.76336436 1.0328802  0.88177785 0.\n",
            "  1.13576494 1.31591144 1.02594775 0.84547715]\n",
            " [1.05695143 0.52173719 0.38403897 1.62666955 1.68445264 1.13576494\n",
            "  0.         1.70055898 0.67934396 0.47264625]\n",
            " [2.35950869 1.18442561 1.42324569 0.34339978 0.63833013 1.31591144\n",
            "  1.70055898 0.         1.04743069 1.23539455]\n",
            " [1.57011862 0.16740816 0.53328008 1.04339266 1.18547006 1.02594775\n",
            "  0.67934396 1.04743069 0.         0.29303739]\n",
            " [1.27777732 0.14416597 0.24038935 1.15486915 1.22865262 0.84547715\n",
            "  0.47264625 1.23539455 0.29303739 0.        ]]\n"
          ]
        }
      ],
      "source": [
        "n = 9\n",
        "distances = parameters(n)\n",
        "print(distances)"
      ]
    },
    {
      "cell_type": "code",
      "execution_count": null,
      "metadata": {
        "id": "QBTMcLkN96_i",
        "outputId": "4f1d4d8d-75e8-4085-ced9-a7f965ffdb0e"
      },
      "outputs": [
        {
          "name": "stdout",
          "output_type": "stream",
          "text": [
            "Busca exaustiva\n",
            "Ordem: (0, 6, 2, 9, 1, 8, 7, 3, 4, 5)  Distancia: 5.745277465267696\n",
            "Tempo: 45.7928900718689\n"
          ]
        }
      ],
      "source": [
        "runExaustive(distances)"
      ]
    },
    {
      "cell_type": "code",
      "execution_count": null,
      "metadata": {
        "id": "1O7lK55G96_g",
        "outputId": "d2d63a6b-357e-4c10-89f5-80da901a4447"
      },
      "outputs": [
        {
          "name": "stdout",
          "output_type": "stream",
          "text": [
            "\n",
            "Hill Climbing\n",
            "Ordem: [3 7 8 1 9 2 6 0 5 4]  Distancia: 5.745277465267697\n",
            "Tempo: 0.013528108596801758\n"
          ]
        }
      ],
      "source": [
        "runHill(distances)"
      ]
    },
    {
      "cell_type": "code",
      "execution_count": null,
      "metadata": {
        "id": "g8vKYKtf96_h",
        "outputId": "53fc1713-f963-40a8-d55e-bd33981dac77"
      },
      "outputs": [
        {
          "name": "stdout",
          "output_type": "stream",
          "text": [
            "\n",
            "Simulated Annealing\n",
            "Ordem: [5 0 6 7 3 2 1 9 4 8]  Distancia: 9.54091043171774\n",
            "Tempo: 0.016772031784057617\n"
          ]
        }
      ],
      "source": [
        "runSimAnnealing(distances)"
      ]
    }
  ],
  "metadata": {
    "colab": {
      "provenance": []
    },
    "kernelspec": {
      "display_name": "Python 3",
      "language": "python",
      "name": "python3"
    },
    "language_info": {
      "codemirror_mode": {
        "name": "ipython",
        "version": 3
      },
      "file_extension": ".py",
      "mimetype": "text/x-python",
      "name": "python",
      "nbconvert_exporter": "python",
      "pygments_lexer": "ipython3",
      "version": "3.8.5"
    }
  },
  "nbformat": 4,
  "nbformat_minor": 0
}