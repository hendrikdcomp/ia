{
 "cells": [
  {
   "cell_type": "markdown",
   "metadata": {},
   "source": [
    "# Connect Four"
   ]
  },
  {
   "cell_type": "markdown",
   "metadata": {},
   "source": [
    "## Algoritmos Minimax e Alfabeta"
   ]
  },
  {
   "cell_type": "code",
   "execution_count": null,
   "metadata": {},
   "outputs": [],
   "source": [
    "from collections import namedtuple\n",
    "import random\n",
    "\n",
    "from utils import argmax\n",
    "from canvas import Canvas\n",
    "\n",
    "infinity = float('inf')\n",
    "GameState = namedtuple('GameState', 'to_move, utility, board, moves')\n",
    "\n",
    "def minimax_decision(state, game):\n",
    "    \"\"\"Given a state in a game, calculate the best move by searching\n",
    "    forward all the way to the terminal states. [Figure 5.3]\"\"\"\n",
    "\n",
    "    player = game.to_move(state)\n",
    "\n",
    "    def max_value(state):\n",
    "        if game.terminal_test(state):\n",
    "            return game.utility(state, player)\n",
    "        v = -infinity\n",
    "        for a in game.actions(state):\n",
    "            v = max(v, min_value(game.result(state, a)))\n",
    "        return v\n",
    "\n",
    "    def min_value(state):\n",
    "        if game.terminal_test(state):\n",
    "            return game.utility(state, player)\n",
    "        v = infinity\n",
    "        for a in game.actions(state):\n",
    "            v = min(v, max_value(game.result(state, a)))\n",
    "        return v\n",
    "\n",
    "    # Body of minimax_decision:\n",
    "    return argmax(game.actions(state),\n",
    "                  key=lambda a: min_value(game.result(state, a)))\n",
    "\n",
    "\n",
    "def alphabeta_search(state, game):\n",
    "    \"\"\"Search game to determine best action; use alpha-beta pruning.\n",
    "    As in [Figure 5.7], this version searches all the way to the leaves.\"\"\"\n",
    "\n",
    "    player = game.to_move(state)\n",
    "\n",
    "    # Functions used by alphabeta\n",
    "    def max_value(state, alpha, beta):\n",
    "        if game.terminal_test(state):\n",
    "            return game.utility(state, player)\n",
    "        v = -infinity\n",
    "        for a in game.actions(state):\n",
    "            v = max(v, min_value(game.result(state, a), alpha, beta))\n",
    "            if v >= beta:\n",
    "                return v\n",
    "            alpha = max(alpha, v)\n",
    "        return v\n",
    "\n",
    "    def min_value(state, alpha, beta):\n",
    "        if game.terminal_test(state):\n",
    "            return game.utility(state, player)\n",
    "        v = infinity\n",
    "        for a in game.actions(state):\n",
    "            v = min(v, max_value(game.result(state, a), alpha, beta))\n",
    "            if v <= alpha:\n",
    "                return v\n",
    "            beta = min(beta, v)\n",
    "        return v\n",
    "\n",
    "    # Body of alphabeta_cutoff_search:\n",
    "    best_score = -infinity\n",
    "    beta = infinity\n",
    "    best_action = None\n",
    "    for a in game.actions(state):\n",
    "        v = min_value(game.result(state, a), best_score, beta)\n",
    "        if v > best_score:\n",
    "            best_score = v\n",
    "            best_action = a\n",
    "    return best_action\n",
    "\n",
    "\n",
    "def alphabeta_cutoff_search(state, game, d=4, cutoff_test=None, eval_fn=None):\n",
    "    \"\"\"Search game to determine best action; use alpha-beta pruning.\n",
    "    This version cuts off search and uses an evaluation function.\"\"\"\n",
    "\n",
    "    player = game.to_move(state)\n",
    "\n",
    "    # Functions used by alphabeta\n",
    "    def max_value(state, alpha, beta, depth):\n",
    "        if cutoff_test(state, depth):\n",
    "            return eval_fn(state)\n",
    "        v = -infinity\n",
    "        for a in game.actions(state):\n",
    "            v = max(v, min_value(game.result(state, a),\n",
    "                                 alpha, beta, depth + 1))\n",
    "            if v >= beta:\n",
    "                return v\n",
    "            alpha = max(alpha, v)\n",
    "        return v\n",
    "\n",
    "    def min_value(state, alpha, beta, depth):\n",
    "        if cutoff_test(state, depth):\n",
    "            return eval_fn(state)\n",
    "        v = infinity\n",
    "        for a in game.actions(state):\n",
    "            v = min(v, max_value(game.result(state, a),\n",
    "                                 alpha, beta, depth + 1))\n",
    "            if v <= alpha:\n",
    "                return v\n",
    "            beta = min(beta, v)\n",
    "        return v\n",
    "\n",
    "    # Body of alphabeta_cutoff_search starts here:\n",
    "    # The default test cuts off at depth d or at a terminal state\n",
    "    cutoff_test = (cutoff_test or\n",
    "                   (lambda state, depth: depth > d or\n",
    "                    game.terminal_test(state)))\n",
    "    eval_fn = eval_fn or (lambda state: game.utility(state, player))\n",
    "    best_score = -infinity\n",
    "    beta = infinity\n",
    "    best_action = None\n",
    "    for a in game.actions(state):\n",
    "        v = min_value(game.result(state, a), best_score, beta, 1)\n",
    "        if v > best_score:\n",
    "            best_score = v\n",
    "            best_action = a\n",
    "    return best_action\n",
    "\n"
   ]
  },
  {
   "cell_type": "markdown",
   "metadata": {},
   "source": [
    "## Definição de 3 tipos de jogadores\n",
    "<b>query_player</b>: oponente humano <br>\n",
    "<b>random_player</b>: agente que joga de forma aleatória <br>\n",
    "<b>alphabeta_player</b>: agente que joga utilizando o minimax alfabeta"
   ]
  },
  {
   "cell_type": "code",
   "execution_count": null,
   "metadata": {},
   "outputs": [],
   "source": [
    "def query_player(game, state):\n",
    "    \"\"\"Make a move by querying standard input.\"\"\"\n",
    "    print(\"current state:\")\n",
    "    game.display(state)\n",
    "    print(\"available moves: {}\".format(game.actions(state)))\n",
    "    print(\"\")\n",
    "    move_string = input('Your move? ')\n",
    "    try:\n",
    "        move = eval(move_string)\n",
    "    except NameError:\n",
    "        move = move_string\n",
    "    return move\n",
    "\n",
    "\n",
    "def random_player(game, state):\n",
    "    \"\"\"A player that chooses a legal move at random.\"\"\"\n",
    "    return random.choice(game.actions(state))\n",
    "\n",
    "def alphabeta_player(game, state):\n",
    "    return alphabeta_cutoff_search(state, game)"
   ]
  },
  {
   "cell_type": "markdown",
   "metadata": {},
   "source": [
    "## Definição da classe que representa um jogo"
   ]
  },
  {
   "cell_type": "code",
   "execution_count": null,
   "metadata": {},
   "outputs": [],
   "source": [
    "class Game:\n",
    "    \"\"\"A game has a utility for each\n",
    "    state and a terminal test. To create a game, subclass this class and implement actions,\n",
    "    result, utility, and terminal_test. You may override display and\n",
    "    successors or you can inherit their default methods. You will also\n",
    "    need to set the .initial attribute to the initial state; this can\n",
    "    be done in the constructor.\"\"\"\n",
    "\n",
    "    def actions(self, state):\n",
    "        \"\"\"Return a list of the allowable moves at this point.\"\"\"\n",
    "        raise NotImplementedError\n",
    "\n",
    "    def result(self, state, move):\n",
    "        \"\"\"Return the state that results from making a move from a state.\"\"\"\n",
    "        raise NotImplementedError\n",
    "\n",
    "    def utility(self, state, player):\n",
    "        \"\"\"Return the value of this final state to player.\"\"\"\n",
    "        raise NotImplementedError\n",
    "\n",
    "    def terminal_test(self, state):\n",
    "        \"\"\"Return True if this is a final state for the game.\"\"\"\n",
    "        return not self.actions(state)\n",
    "\n",
    "    def to_move(self, state):\n",
    "        \"\"\"Return the player whose move it is in this state.\"\"\"\n",
    "        return state.to_move\n",
    "\n",
    "    def display(self, state):\n",
    "        \"\"\"Print or otherwise display the state.\"\"\"\n",
    "        print(state)\n",
    "\n",
    "    def __repr__(self):\n",
    "        return '<{}>'.format(self.__class__.__name__)\n",
    "\n",
    "    def play_game(self, *players):\n",
    "        \"\"\"Play an n-person, move-alternating game.\"\"\"\n",
    "        state = self.initial\n",
    "        while True:\n",
    "            for player in players:\n",
    "                move = player(self, state)\n",
    "                state = self.result(state, move)\n",
    "                if self.terminal_test(state):\n",
    "                    self.display(state)\n",
    "                    return self.utility(state, self.to_move(self.initial))"
   ]
  },
  {
   "cell_type": "markdown",
   "metadata": {},
   "source": [
    "## JOGO: Jogo da Velha"
   ]
  },
  {
   "cell_type": "code",
   "execution_count": null,
   "metadata": {},
   "outputs": [],
   "source": [
    "class TicTacToe(Game):\n",
    "    \"\"\"Play TicTacToe on an h x v board, with Max (first player) playing 'X'.\n",
    "    A state has the player to move, a cached utility, a list of moves in\n",
    "    the form of a list of (x, y) positions, and a board, in the form of\n",
    "    a dict of {(x, y): Player} entries, where Player is 'X' or 'O'.\"\"\"\n",
    "\n",
    "    def __init__(self, h=3, v=3, k=3):\n",
    "        self.h = h\n",
    "        self.v = v\n",
    "        self.k = k\n",
    "        moves = [(x, y) for x in range(1, h + 1)\n",
    "                 for y in range(1, v + 1)]\n",
    "        self.initial = GameState(to_move='X', utility=0, board={}, moves=moves)\n",
    "\n",
    "    def actions(self, state):\n",
    "        \"\"\"Legal moves are any square not yet taken.\"\"\"\n",
    "        return state.moves\n",
    "\n",
    "    def result(self, state, move):\n",
    "        if move not in state.moves:\n",
    "            return GameState(to_move=('O' if state.to_move == 'X' else 'X'),\n",
    "                             utility=self.compute_utility(state.board, move, state.to_move),\n",
    "                             board=state.board, moves=state.moves)\n",
    "        board = state.board.copy()\n",
    "        board[move] = state.to_move\n",
    "        moves = list(state.moves)\n",
    "        moves.remove(move)\n",
    "        return GameState(to_move=('O' if state.to_move == 'X' else 'X'),\n",
    "                         utility=self.compute_utility(board, move, state.to_move),\n",
    "                         board=board, moves=moves)\n",
    "\n",
    "    def utility(self, state, player):\n",
    "        \"\"\"Return the value to player; 1 for win, -1 for loss, 0 otherwise.\"\"\"\n",
    "        return state.utility if player == 'X' else -state.utility\n",
    "\n",
    "    def terminal_test(self, state):\n",
    "        \"\"\"A state is terminal if it is won or there are no empty squares.\"\"\"\n",
    "        return state.utility != 0 or len(state.moves) == 0\n",
    "\n",
    "    def display(self, state):\n",
    "        board = state.board\n",
    "        for x in range(1, self.h + 1):\n",
    "            for y in range(1, self.v + 1):\n",
    "                print(board.get((x, y), '.'), end=' ')\n",
    "            print()\n",
    "\n",
    "    def compute_utility(self, board, move, player):\n",
    "        \"\"\"If 'X' wins with this move, return 1; if 'O' wins return -1; else return 0.\"\"\"\n",
    "        if (self.k_in_row(board, move, player, (0, 1)) or\n",
    "                self.k_in_row(board, move, player, (1, 0)) or\n",
    "                self.k_in_row(board, move, player, (1, -1)) or\n",
    "                self.k_in_row(board, move, player, (1, 1))):\n",
    "            return +1 if player == 'X' else -1\n",
    "        else:\n",
    "            return 0\n",
    "\n",
    "    def k_in_row(self, board, move, player, delta_x_y):\n",
    "        \"\"\"Return true if there is a line through move on board for player.\"\"\"\n",
    "        (delta_x, delta_y) = delta_x_y\n",
    "        x, y = move\n",
    "        n = 0  # n is number of moves in row\n",
    "        while board.get((x, y)) == player:\n",
    "            n += 1\n",
    "            x, y = x + delta_x, y + delta_y\n",
    "        x, y = move\n",
    "        while board.get((x, y)) == player:\n",
    "            n += 1\n",
    "            x, y = x - delta_x, y - delta_y\n",
    "        n -= 1  # Because we counted move itself twice\n",
    "        return n >= self.k"
   ]
  },
  {
   "cell_type": "markdown",
   "metadata": {},
   "source": [
    "### Testando funções do Jogo da Velha ..."
   ]
  },
  {
   "cell_type": "code",
   "execution_count": null,
   "metadata": {},
   "outputs": [],
   "source": [
    "ttt = TicTacToe()\n",
    "\n",
    "print(\"Estado inicial:\")\n",
    "ttt.display(ttt.initial)\n",
    "\n",
    "print(\"Estado qualquer:\")\n",
    "my_state = GameState(\n",
    "    to_move = 'X',\n",
    "    utility = '0',\n",
    "    board = {(1,1): 'X', (1,2): 'O', (1,3): 'X',\n",
    "             (2,1): 'O',             (2,3): 'O',\n",
    "             (3,1): 'X',\n",
    "            },\n",
    "    moves = [(2,2), (3,2), (3,3)]\n",
    "    )\n",
    "ttt.display(my_state)"
   ]
  },
  {
   "cell_type": "code",
   "execution_count": null,
   "metadata": {},
   "outputs": [],
   "source": [
    "print(\"Como jogaria um jogador Random?\")\n",
    "random_player(ttt, my_state)"
   ]
  },
  {
   "cell_type": "code",
   "execution_count": null,
   "metadata": {},
   "outputs": [],
   "source": [
    "print(\"Como jogaria um jogador Alfabeta?\")\n",
    "alphabeta_player(ttt, my_state)"
   ]
  },
  {
   "cell_type": "markdown",
   "metadata": {},
   "source": [
    "### 10 Jogos da Velha completos: random vs. alphabeta (que sempre deve ao menos empatar!)"
   ]
  },
  {
   "cell_type": "code",
   "execution_count": null,
   "metadata": {},
   "outputs": [],
   "source": [
    "for _ in range(10):\n",
    "    print(ttt.play_game(random_player, alphabeta_player))"
   ]
  },
  {
   "cell_type": "markdown",
   "metadata": {},
   "source": [
    "### 10 Jogos da Velha completos: alphabeta vs. alphabeta (necessariamente sempre há empate!)"
   ]
  },
  {
   "cell_type": "code",
   "execution_count": null,
   "metadata": {},
   "outputs": [],
   "source": [
    "for _ in range(10):\n",
    "    print(ttt.play_game(alphabeta_player, alphabeta_player))"
   ]
  },
  {
   "cell_type": "markdown",
   "metadata": {},
   "source": [
    "## JOGO: Conecta 4\n",
    "#### Objetivo é juntar 4 peças seguidas na horizontal, vertical ou diagonal antes do adversário. Só é possível colocar peça na linha de baixo ou acima de qualquer outra peça já existente."
   ]
  },
  {
   "cell_type": "code",
   "execution_count": 9,
   "metadata": {},
   "outputs": [],
   "source": [
    "class ConnectFour(TicTacToe):\n",
    "    \"\"\"Traditionally played on a 7x6 board and requiring 4 in a row.\"\"\"\n",
    "\n",
    "    def __init__(self, h=6, v=7, k=4):\n",
    "        TicTacToe.__init__(self, h, v, k)\n",
    "\n",
    "    def actions(self, state):\n",
    "        return [(x, y) for (x, y) in state.moves\n",
    "                if x == 6 or (x + 1, y) in state.board]\n",
    "    \n",
    "    def result(self, state, move):\n",
    "        \"\"\"Return the state that results from making a move from a state.\"\"\"\n",
    "        if move not in state.moves:\n",
    "            return GameState(to_move=('O' if state.to_move == 'X' else 'X'),\n",
    "                             utility=self.compute_utility(state.board, move, state.to_move),\n",
    "                             board=state.board, moves=state.moves)\n",
    "        board = state.board.copy()\n",
    "        board[move] = state.to_move\n",
    "        moves = list(state.moves)\n",
    "        moves.remove(move)\n",
    "        return GameState(to_move=('O' if state.to_move == 'X' else 'X'),\n",
    "                         utility=self.compute_utility(board, move, state.to_move),\n",
    "                         board=board, moves=moves)\n",
    "\n",
    "    def utility(self, state, player):\n",
    "        \"\"\"Return the value to player; 1 for win, -1 for loss, 0 otherwise.\"\"\"\n",
    "        return state.utility if player == 'X' else -state.utility\n",
    "\n",
    "    def terminal_test(self, state):\n",
    "        \"\"\"A state is terminal if it is won or there are no empty squares.\"\"\"\n",
    "        return state.utility != 0 or len(state.moves) == 0\n",
    "\n",
    "    def display(self, state):\n",
    "        \"\"\"Print or otherwise display the state.\"\"\"\n",
    "        board = state.board\n",
    "        for x in range(1, self.h + 1):\n",
    "            for y in range(1, self.v + 1):\n",
    "                print(board.get((x, y), '.'), end=' ')\n",
    "            print()\n",
    "\n",
    "    def compute_utility(self, board, move, player):\n",
    "        \"\"\"If 'X' wins with this move, return 1; if 'O' wins return -1; else return 0.\"\"\"\n",
    "        if (self.k_in_row(board, move, player, (0, 1)) or\n",
    "                self.k_in_row(board, move, player, (1, 0)) or\n",
    "                self.k_in_row(board, move, player, (1, -1)) or\n",
    "                self.k_in_row(board, move, player, (1, 1))):\n",
    "            return +1 if player == 'X' else -1\n",
    "        else:\n",
    "            return 0\n",
    "\n",
    "    def k_in_row(self, board, move, player, delta_x_y):\n",
    "        \"\"\"Return true if there is a line through move on board for player.\"\"\"\n",
    "        (delta_x, delta_y) = delta_x_y\n",
    "        x, y = move\n",
    "        n = 0  # n is number of moves in row\n",
    "        while board.get((x, y)) == player:\n",
    "            n += 1\n",
    "            x, y = x + delta_x, y + delta_y\n",
    "        x, y = move\n",
    "        while board.get((x, y)) == player:\n",
    "            n += 1\n",
    "            x, y = x - delta_x, y - delta_y\n",
    "        n -= 1  # Because we counted move itself twice\n",
    "        return n >= self.k"
   ]
  },
  {
   "cell_type": "markdown",
   "metadata": {},
   "source": [
    "### Testando as funções do Connect Four..."
   ]
  },
  {
   "cell_type": "code",
   "execution_count": 10,
   "metadata": {},
   "outputs": [
    {
     "name": "stdout",
     "output_type": "stream",
     "text": [
      "Estado inicial:\n",
      ". . . . . . . \n",
      ". . . . . . . \n",
      ". . . . . . . \n",
      ". . . . . . . \n",
      ". . . . . . . \n",
      ". . . . . . . \n",
      "Estado qualquer:\n",
      ". . . . . . . \n",
      ". . . . . . . \n",
      ". . . . . . . \n",
      "O . . . . . . \n",
      "O X . . . . . \n",
      "X O X . . . . \n"
     ]
    }
   ],
   "source": [
    "cf = ConnectFour()\n",
    "\n",
    "print(\"Estado inicial:\")\n",
    "cf.display(cf.initial)\n",
    "\n",
    "print(\"Estado qualquer:\")\n",
    "my_state = GameState(\n",
    "    to_move = 'X',\n",
    "    utility = '0',\n",
    "    board = {(6,1): 'X', (6,2): 'O', (6,3): 'X',\n",
    "             (5,1): 'O',             (4,1): 'O',\n",
    "             (5,2): 'X',\n",
    "            },\n",
    "    moves = [(6,4), (6,5), (3,1)]\n",
    "    )\n",
    "cf.display(my_state)"
   ]
  },
  {
   "cell_type": "markdown",
   "metadata": {},
   "source": [
    "### Jogador Random"
   ]
  },
  {
   "cell_type": "code",
   "execution_count": 11,
   "metadata": {},
   "outputs": [
    {
     "name": "stdout",
     "output_type": "stream",
     "text": [
      "Como jogaria um jogador Random?\n"
     ]
    },
    {
     "data": {
      "text/plain": [
       "(6, 4)"
      ]
     },
     "execution_count": 11,
     "metadata": {},
     "output_type": "execute_result"
    }
   ],
   "source": [
    "print(\"Como jogaria um jogador Random?\")\n",
    "random_player(cf, my_state)"
   ]
  },
  {
   "cell_type": "markdown",
   "metadata": {},
   "source": [
    "### Jogador Alfabeta"
   ]
  },
  {
   "cell_type": "code",
   "execution_count": 12,
   "metadata": {},
   "outputs": [
    {
     "name": "stdout",
     "output_type": "stream",
     "text": [
      "Como jogaria um jogador Alfabeta?\n"
     ]
    },
    {
     "data": {
      "text/plain": [
       "(6, 4)"
      ]
     },
     "execution_count": 12,
     "metadata": {},
     "output_type": "execute_result"
    }
   ],
   "source": [
    "\"\"\"Optou-se pela adoção da função alfabeta com o cuttoff na definição do agente alphabeta_player,\n",
    "de modo a evitar árvores de busca muito grandes - o que poderia exigir um longo tempo de execução. Ver a\n",
    "Definição dos 3 tipos de jogadores para mais informações (supracitado).\"\"\"\n",
    "\n",
    "print(\"Como jogaria um jogador Alfabeta?\")\n",
    "alphabeta_player(cf, my_state)"
   ]
  },
  {
   "cell_type": "markdown",
   "metadata": {},
   "source": [
    "## Jogando o ConnectFour\n",
    "#### Simulação das partidas com os jogadores predefinidos"
   ]
  },
  {
   "cell_type": "markdown",
   "metadata": {},
   "source": [
    "### Random vs Alfabeta"
   ]
  },
  {
   "cell_type": "code",
   "execution_count": 13,
   "metadata": {},
   "outputs": [
    {
     "name": "stdout",
     "output_type": "stream",
     "text": [
      ". . . . . . . \n",
      "O . . . . . . \n",
      "O . . . . . . \n",
      "O . . . . . . \n",
      "O . . X . . . \n",
      "X X X O X . . \n",
      "-1\n",
      "O . . . . . . \n",
      "O . . . . . . \n",
      "O . . . . . . \n",
      "O X . . . . . \n",
      "X O X . X . . \n",
      "O X O X X . . \n",
      "-1\n",
      ". . O . . . . \n",
      ". . O . . . . \n",
      ". . O . . . . \n",
      ". . O . . . . \n",
      ". . X X O X . \n",
      ". X O X X X O \n",
      "-1\n",
      ". . . . . . . \n",
      ". . . . O . . \n",
      ". . . . O . . \n",
      ". . . . O . . \n",
      ". . . . O . . \n",
      "X . X . X X . \n",
      "-1\n",
      ". . . . . . . \n",
      ". . . . . O . \n",
      ". . . . . O . \n",
      ". . . . . O . \n",
      ". X . . . O . \n",
      "X X . . . X . \n",
      "-1\n"
     ]
    }
   ],
   "source": [
    "for _ in range(5):\n",
    "    print(cf.play_game(random_player, alphabeta_player))"
   ]
  },
  {
   "cell_type": "markdown",
   "metadata": {},
   "source": [
    "### Alfabeta vs Alfabeta"
   ]
  },
  {
   "cell_type": "code",
   "execution_count": 14,
   "metadata": {},
   "outputs": [
    {
     "name": "stdout",
     "output_type": "stream",
     "text": [
      "O O X X O O . \n",
      "X X O O X X . \n",
      "O O X X O O . \n",
      "X X O O X X . \n",
      "O O X O O O O \n",
      "X X X O X X X \n",
      "-1\n",
      "O O X X O O . \n",
      "X X O O X X . \n",
      "O O X X O O . \n",
      "X X O O X X . \n",
      "O O X O O O O \n",
      "X X X O X X X \n",
      "-1\n",
      "O O X X O O . \n",
      "X X O O X X . \n",
      "O O X X O O . \n",
      "X X O O X X . \n",
      "O O X O O O O \n",
      "X X X O X X X \n",
      "-1\n",
      "O O X X O O . \n",
      "X X O O X X . \n",
      "O O X X O O . \n",
      "X X O O X X . \n",
      "O O X O O O O \n",
      "X X X O X X X \n",
      "-1\n",
      "O O X X O O . \n",
      "X X O O X X . \n",
      "O O X X O O . \n",
      "X X O O X X . \n",
      "O O X O O O O \n",
      "X X X O X X X \n",
      "-1\n"
     ]
    }
   ],
   "source": [
    "for _ in range(5):\n",
    "    print(cf.play_game(alphabeta_player, alphabeta_player))"
   ]
  },
  {
   "cell_type": "markdown",
   "metadata": {},
   "source": [
    "### Humano vs Random"
   ]
  },
  {
   "cell_type": "code",
   "execution_count": 15,
   "metadata": {},
   "outputs": [
    {
     "name": "stdout",
     "output_type": "stream",
     "text": [
      "current state:\n",
      ". . . . . . . \n",
      ". . . . . . . \n",
      ". . . . . . . \n",
      ". . . . . . . \n",
      ". . . . . . . \n",
      ". . . . . . . \n",
      "available moves: [(6, 1), (6, 2), (6, 3), (6, 4), (6, 5), (6, 6), (6, 7)]\n",
      "\n",
      "Your move? (6,1)\n",
      "current state:\n",
      ". . . . . . . \n",
      ". . . . . . . \n",
      ". . . . . . . \n",
      ". . . . . . . \n",
      "O . . . . . . \n",
      "X . . . . . . \n",
      "available moves: [(4, 1), (6, 2), (6, 3), (6, 4), (6, 5), (6, 6), (6, 7)]\n",
      "\n",
      "Your move? (4,1)\n",
      "current state:\n",
      ". . . . . . . \n",
      ". . . . . . . \n",
      ". . . . . . . \n",
      "X . . . . . . \n",
      "O . . . . . . \n",
      "X . . O . . . \n",
      "available moves: [(3, 1), (5, 4), (6, 2), (6, 3), (6, 5), (6, 6), (6, 7)]\n",
      "\n",
      "Your move? (6,3)\n",
      "current state:\n",
      ". . . . . . . \n",
      ". . . . . . . \n",
      ". . . . . . . \n",
      "X . . . . . . \n",
      "O . O . . . . \n",
      "X . X O . . . \n",
      "available moves: [(3, 1), (4, 3), (5, 4), (6, 2), (6, 5), (6, 6), (6, 7)]\n",
      "\n",
      "Your move? (5,4)\n",
      "current state:\n",
      ". . . . . . . \n",
      ". . . . . . . \n",
      ". . . . . . . \n",
      "X . O . . . . \n",
      "O . O X . . . \n",
      "X . X O . . . \n",
      "available moves: [(3, 1), (3, 3), (4, 4), (6, 2), (6, 5), (6, 6), (6, 7)]\n",
      "\n",
      "Your move? (6,5)\n",
      "current state:\n",
      ". . . . . . . \n",
      ". . . . . . . \n",
      ". . . . . . . \n",
      "X . O . . . . \n",
      "O . O X O . . \n",
      "X . X O X . . \n",
      "available moves: [(3, 1), (3, 3), (4, 4), (4, 5), (6, 2), (6, 6), (6, 7)]\n",
      "\n",
      "Your move? (4,5)\n",
      "current state:\n",
      ". . . . . . . \n",
      ". . . . . . . \n",
      ". . . . . . . \n",
      "X . O . X . . \n",
      "O . O X O . . \n",
      "X . X O X O . \n",
      "available moves: [(3, 1), (3, 3), (3, 5), (4, 4), (5, 6), (6, 2), (6, 7)]\n",
      "\n",
      "Your move? (4,4)\n",
      "current state:\n",
      ". . . . . . . \n",
      ". . . . . . . \n",
      "O . . . . . . \n",
      "X . O X X . . \n",
      "O . O X O . . \n",
      "X . X O X O . \n",
      "available moves: [(2, 1), (3, 3), (3, 4), (3, 5), (5, 6), (6, 2), (6, 7)]\n",
      "\n",
      "Your move? (3,4)\n",
      "current state:\n",
      ". . . . . . . \n",
      ". . . . . . . \n",
      "O . . X . . . \n",
      "X . O X X . . \n",
      "O . O X O . . \n",
      "X . X O X O O \n",
      "available moves: [(2, 1), (2, 4), (3, 3), (3, 5), (5, 6), (5, 7), (6, 2)]\n",
      "\n",
      "Your move? (2,4)\n",
      ". . . . . . . \n",
      ". . . X . . . \n",
      "O . . X . . . \n",
      "X . O X X . . \n",
      "O . O X O . . \n",
      "X . X O X O O \n",
      "1\n"
     ]
    }
   ],
   "source": [
    "for _ in range(1):\n",
    "    print(cf.play_game(query_player, random_player))"
   ]
  },
  {
   "cell_type": "code",
   "execution_count": null,
   "metadata": {},
   "outputs": [],
   "source": []
  }
 ],
 "metadata": {
  "kernelspec": {
   "display_name": "Python 3",
   "language": "python",
   "name": "python3"
  },
  "language_info": {
   "codemirror_mode": {
    "name": "ipython",
    "version": 3
   },
   "file_extension": ".py",
   "mimetype": "text/x-python",
   "name": "python",
   "nbconvert_exporter": "python",
   "pygments_lexer": "ipython3",
   "version": "3.8.5"
  }
 },
 "nbformat": 4,
 "nbformat_minor": 1
}
