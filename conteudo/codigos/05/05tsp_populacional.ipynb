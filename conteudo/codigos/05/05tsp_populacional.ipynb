{
  "cells": [
    {
      "cell_type": "markdown",
      "metadata": {
        "id": "YhdfOX1f96_N"
      },
      "source": [
        "# Solução do problema do Caixeiro Viajante (TSP)"
      ]
    },
    {
      "cell_type": "markdown",
      "metadata": {
        "id": "WXF1wtUr96_V"
      },
      "source": [
        "### Uso de duas técnicas diferentes\n",
        "1. Busca exaustiva\n",
        "2. Algoritmos Genéticos"
      ]
    },
    {
      "cell_type": "code",
      "execution_count": 1,
      "metadata": {
        "id": "4wPS9Rc-96_W"
      },
      "outputs": [],
      "source": [
        "# Stephen Marsland, 2008, 2014\n",
        "# Adaptação e correção de bugs por Hendrik Macedo\n",
        "\n",
        "import numpy as np\n",
        "import time\n",
        "\n",
        "def makeTSP(nCities):\n",
        "\tpositions = 2*np.random.rand(nCities,2)-1;\n",
        "\tdistances = np.zeros((nCities,nCities))\n",
        "\n",
        "\tfor i in range(nCities):\n",
        "\t\tfor j in range(i+1,nCities):\n",
        "\t\t\tdistances[i,j] = np.sqrt((positions[i,0] - positions[j,0])**2 + (positions[i,1] - positions[j,1])**2);\n",
        "\t\t\tdistances[j,i] = distances[i,j];\n",
        "\t# distances[0,0] = 0\n",
        "\t# distances[0,1] = 1\n",
        "\t# distances[0,2] = 2\n",
        "\t# distances[0,3] = 3\n",
        "\t# distances[0,4] = 4\n",
        "\t# distances[1,1] = 0\n",
        "\t# distances[1,2] = 5\n",
        "\t# distances[1,3] = 6\n",
        "\t# distances[1,4] = 7\n",
        "\t# distances[2,2] = 0\n",
        "\t# distances[2,3] = 8\n",
        "\t# distances[2,4] = 9\n",
        "\t# distances[3,3] = 0\n",
        "\t# distances[3,4] = 1\n",
        "\t# distances[4,4] = 0\n",
        "\t# for i in range(nCities):\n",
        "\t# \tfor j in range(i+1,nCities):\n",
        "\t# \t\tdistances[j,i] = distances[i,j];\n",
        "\n",
        "\treturn distances\n",
        "\n",
        "def permutation(order):\n",
        "\torder = tuple(order)\n",
        "\tif len(order)==1:\n",
        "\t\tyield order\n",
        "\telse:\n",
        "\t\tfor i in range(len(order)):\n",
        "\t\t\trest = order[:i] + order[i+1:]\n",
        "\t\t\tmove = (order[i],)\n",
        "\t\t\tfor smaller in permutation(rest):\n",
        "\t\t\t\tyield move + smaller\n",
        "\n",
        "def parameters(nCities):\n",
        "\tdistances = makeTSP(nCities)\n",
        "\treturn distances"
      ]
    },
    {
      "cell_type": "code",
      "execution_count": 2,
      "metadata": {
        "id": "DpRv1DXFNhty"
      },
      "outputs": [],
      "source": [
        "def exhaustive(distances):\n",
        "\tnCities = np.shape(distances)[0]\n",
        "\n",
        "\tcityOrder = np.arange(nCities)\n",
        "\n",
        "\tdistanceTravelled = 0\n",
        "\tfor i in range(nCities-1):\n",
        "\t\tdistanceTravelled += distances[cityOrder[i],cityOrder[i+1]]\n",
        "\tdistanceTravelled += distances[cityOrder[nCities-1],cityOrder[0]]\n",
        "\n",
        "\tfor newOrder in permutation(range(nCities)):\n",
        "\t\tpossibleDistanceTravelled = 0\n",
        "\t\tfor i in range(nCities-1):\n",
        "\t\t\tpossibleDistanceTravelled += distances[newOrder[i],newOrder[i+1]]\n",
        "\t\tpossibleDistanceTravelled += distances[newOrder[nCities-1],newOrder[0]]\n",
        "\t\t\t\t\n",
        "\t\tif possibleDistanceTravelled < distanceTravelled:\n",
        "\t\t\tdistanceTravelled = possibleDistanceTravelled\n",
        "\t\t\tcityOrder = newOrder\n",
        "\n",
        "\treturn cityOrder, distanceTravelled"
      ]
    },
    {
      "cell_type": "code",
      "execution_count": 3,
      "metadata": {
        "id": "4948C04iOBZf"
      },
      "outputs": [],
      "source": [
        "def runExaustive(distances):\n",
        "\tprint (\"Busca exaustiva\")\n",
        "\tstart = time.time()\n",
        "\tresult = exhaustive(distances)\n",
        "\tfinish = time.time()\n",
        "\tprint (\"Ordem:\",result[0],\" Distancia:\",result[1])\n",
        "\tprint (\"Tempo:\",finish-start)"
      ]
    },
    {
      "cell_type": "code",
      "execution_count": 4,
      "metadata": {
        "id": "xZkV-bfA96_d",
        "colab": {
          "base_uri": "https://localhost:8080/"
        },
        "outputId": "3a8c5ecf-0fc5-4c42-840d-13653ca36716"
      },
      "outputs": [
        {
          "output_type": "stream",
          "name": "stdout",
          "text": [
            "[[0.         1.3173315  1.49371792 1.37047823 2.16948748 1.91366588\n",
            "  1.02121056 0.40985158 1.26560155]\n",
            " [1.3173315  0.         1.60286678 0.2013632  1.53232233 1.55948492\n",
            "  1.49661945 1.06658924 1.81238389]\n",
            " [1.49371792 1.60286678 0.         1.7951737  1.03025834 0.61410633\n",
            "  0.51281743 1.70233034 0.5270264 ]\n",
            " [1.37047823 0.2013632  1.7951737  0.         1.7229194  1.76040171\n",
            "  1.66199826 1.06943693 1.98143977]\n",
            " [2.16948748 1.53232233 1.03025834 1.7229194  0.         0.42966696\n",
            "  1.44392193 2.20145641 1.55402783]\n",
            " [1.91366588 1.55948492 0.61410633 1.76040171 0.42966696 0.\n",
            "  1.07143272 2.01750162 1.14113205]\n",
            " [1.02121056 1.49661945 0.51281743 1.66199826 1.44392193 1.07143272\n",
            "  0.         1.2924218  0.32278576]\n",
            " [0.40985158 1.06658924 1.70233034 1.06943693 2.20145641 2.01750162\n",
            "  1.2924218  0.         1.57782937]\n",
            " [1.26560155 1.81238389 0.5270264  1.98143977 1.55402783 1.14113205\n",
            "  0.32278576 1.57782937 0.        ]]\n"
          ]
        }
      ],
      "source": [
        "n = 9\n",
        "distances = parameters(n)\n",
        "print(distances)"
      ]
    },
    {
      "cell_type": "code",
      "execution_count": 5,
      "metadata": {
        "id": "QBTMcLkN96_i",
        "colab": {
          "base_uri": "https://localhost:8080/"
        },
        "outputId": "db33261b-883a-4990-ffd3-9a1288fa55f5"
      },
      "outputs": [
        {
          "output_type": "stream",
          "name": "stdout",
          "text": [
            "Busca exaustiva\n",
            "Ordem: (7, 0, 6, 8, 2, 5, 4, 1, 3)  Distancia: 6.127770051357038\n",
            "Tempo: 3.7867929935455322\n"
          ]
        }
      ],
      "source": [
        "runExaustive(distances)"
      ]
    },
    {
      "cell_type": "markdown",
      "metadata": {
        "id": "9oIEb81qOZC2"
      },
      "source": [
        "### Algoritmos Genéticos"
      ]
    },
    {
      "cell_type": "code",
      "execution_count": 6,
      "metadata": {
        "id": "6Uja_VJVOZC2"
      },
      "outputs": [],
      "source": [
        "def fit(pop, distances):\n",
        "\tnCities = np.shape(distances)[0]\n",
        "\tfitness = np.zeros(np.shape(pop)[0])\n",
        "\t\n",
        "\tfor j in range (np.shape(pop)[0]):\n",
        "\t\tfor i in range(nCities-1):            \n",
        "\t\t\tfitness[j] += distances[pop[j][i],pop[j][i+1]]\n",
        "\t\tfitness[j] += distances[pop[j][nCities-1],pop[j][0]]\n",
        "\treturn fitness"
      ]
    },
    {
      "cell_type": "code",
      "execution_count": 7,
      "metadata": {
        "id": "qclvRkEYOZC2"
      },
      "outputs": [],
      "source": [
        "import numpy as np\n",
        "import random\n",
        "import time\n",
        "class ga:\n",
        "\n",
        "\tdef __init__(self,stringLength,distances,nEpochs=300,populationSize=500,mutationProb=0.05):\n",
        "\t\t\"\"\" Constructor\"\"\"\n",
        "\t\tself.stringLength = stringLength\n",
        "\t\t\n",
        "\t\t# Population size should be even\n",
        "\t\tif np.mod(populationSize,2)==0:\n",
        "\t\t\tself.populationSize = populationSize\n",
        "\t\telse:\n",
        "\t\t\tself.populationSize = populationSize+1\n",
        "\t\t\n",
        "\t\tif mutationProb < 0:\n",
        "\t\t\t self.mutationProb = 1/stringLength\n",
        "\t\telse:\n",
        "\t\t\t self.mutationProb = mutationProb\n",
        "\t\t\t \t  \n",
        "\t\tself.nEpochs = nEpochs\n",
        "\n",
        "\t\tself.fitnessFunction = 'fit'\n",
        "        \n",
        "\t\t#Na Codificação por Permutação, cada cromossoma é uma série de números que representa uma posição em uma seqüência\n",
        "\t\t#Codificação: Os cromossomas descrevem a ordem em que o caixeiro visitará as cidades.\n",
        "\t\tdata = range(0, self.stringLength)\n",
        "\t\tself.population = np.zeros((self.populationSize,self.stringLength), dtype=np.int)\n",
        "\t\tfor i in range(self.populationSize):\n",
        "            \n",
        "\t\t\tself.population[i] = random.sample(data, self.stringLength)\n",
        "\t\tself.distances = distances\n",
        "        \n",
        "\tdef runGA(self):\n",
        "\t\t\"\"\"The basic loop\"\"\"\n",
        "\t\tbest_value = np.zeros(self.nEpochs)\n",
        "\t\tbest_order = np.zeros((self.nEpochs,self.stringLength), dtype=np.int)\n",
        "\n",
        "\t\tfor i in range(self.nEpochs):\n",
        "\t\t\t# Compute fitness of the population\n",
        "\t\t\tfitness = eval(self.fitnessFunction)(self.population, self.distances)\n",
        "\n",
        "\t\t\t# Pick parents -- can do in order since they are randomised\n",
        "\t\t\tnewPopulation = self.fps(self.population,fitness)\n",
        "            \n",
        "\t\t\t# Apply the genetic operators\n",
        "\t\t\tnewPopulation = self.spCrossover(newPopulation)\n",
        "\t\t\tnewPopulation = self.mutate(newPopulation)\n",
        "\n",
        "\n",
        "\t\t\tbest_value[i] = min(fitness)\n",
        "\t\t\tbest_order[i] = self.population[np.argmin(fitness)]\n",
        "\t\t\t#print (i, \" Ordem: \", best_order[i],\" Distancia:\",best_value[i])\n",
        "\t\t\tself.population = newPopulation\n",
        "\n",
        "\t\tb_v = min(best_value)\n",
        "\t\tb_o = best_order[np.argmin(best_value)]\n",
        "\t\t#return best_order[self.nEpochs-1], best_value[self.nEpochs-1], best_value\n",
        "\t\treturn b_o, b_v, best_value    \n",
        "\t\t#pl.show()\n",
        "\n",
        "        \n",
        "\tdef fps(self,population,fitness):\n",
        "\t\t#Probabilidade de uma string ser selecionada é proporcional à sua aptidão dentro da população\n",
        "\t\t# Scale fitness by total fitness\n",
        "\t\tfitness = 1/fitness\n",
        "\t\tfitness = fitness/np.sum(fitness)\n",
        "\t\tfitness = 10*fitness/fitness.max()\n",
        "\t\t\n",
        "\t\t# Put repeated copies of each string in according to fitness\n",
        "\t\t# Deal with strings with very low fitness\n",
        "\t\tj=0\n",
        "\t\twhile np.round(fitness[j])<1:\n",
        "\t\t\tj = j+1\n",
        "\t\t\n",
        "\t\tnewPopulation = np.kron(np.ones((int(np.round(fitness[j])),1), dtype=np.int),population[j,:])\n",
        "\n",
        "\t\t# Add multiple copies of strings into the newPopulation\n",
        "\t\tfor i in range(j+1,self.populationSize):\n",
        "\t\t\tif np.round(fitness[i])>=1:\n",
        "\t\t\t\tnewPopulation = np.concatenate((newPopulation,np.kron(np.ones((int(np.round(fitness[i])),1), dtype=np.int),population[i,:])),axis=0)\n",
        "\n",
        "\t\t# Shuffle the order (note that there are still too many)\n",
        "\t\tindices = list(range(np.shape(newPopulation)[0]))\n",
        "\t\tnp.random.shuffle(indices)\n",
        "\t\tnewPopulation = newPopulation[indices[:self.populationSize],:]\n",
        "\t\treturn newPopulation\t\n",
        "    \n",
        "\tdef spCrossover(self,population):\n",
        "\t\t# Single point crossover\n",
        "\t\t#order crossover operator (OX1): A portion of one parent is mapped to a portion of the other parent. \n",
        "\t\t#From the replaced portion on, the rest is filled up by the remaining genes, where already present \n",
        "\t\t#genes are omitted and the order is preserved.\n",
        "        \n",
        "\t\t# Cruzamento com permutação em Ponto único - parte do primeiro pai (isto é, parte da seqüencia das cidades) é copiada \n",
        "\t\t# e o resto das cidades é copiada na mesma seqüência do segundo pai\n",
        "\t\tnewPopulation = np.zeros(np.shape(population), dtype=np.int)\n",
        "\t\tcrossoverPoint = np.random.randint(0,self.stringLength,self.populationSize)\n",
        "\t\tfor i in range(0,self.populationSize,2):\n",
        "            \n",
        "\t\t\tnewPopulation[i,:crossoverPoint[i]] = population[i,:crossoverPoint[i]]\n",
        "\t\t\tnewPopulation[i+1,:crossoverPoint[i]] = population[i+1,:crossoverPoint[i]]\n",
        "\n",
        "\t\t\tp1 = crossoverPoint[i]\n",
        "\t\t\tp2 = crossoverPoint[i]\n",
        "\t\t\tfor j in range(self.stringLength):\n",
        "\t\t\t\tif population[i+1,j] not in newPopulation[i,:crossoverPoint[i]]:\n",
        "\t\t\t\t\tnewPopulation[i,p1]=population[i+1,j]\n",
        "\t\t\t\t\tp1 += 1\n",
        "\t\t\t\tif population[i,j] not in newPopulation[i+1,:crossoverPoint[i]]:\n",
        "\t\t\t\t\tnewPopulation[i+1,p2]=population[i,j]\n",
        "\t\t\t\t\tp2 += 1\n",
        "\n",
        "\n",
        "\t\treturn newPopulation\n",
        "    \n",
        "\tdef mutate(self,population):\n",
        "\t\t# Mutation\n",
        "\t\twhereMutate = np.random.sample(np.shape(population)[0])\n",
        "\t\tpopulation[np.where(whereMutate < self.mutationProb)] = self.mutateIndividual(population[np.where(whereMutate < self.mutationProb)])\n",
        "\t\treturn population\n",
        "\n",
        "\tdef mutateIndividual(self,population):\n",
        "\t\t# Mutation\n",
        "\t\tfor i in range(np.shape(population)[0]):\n",
        "\t\t\ti0 = np.random.randint(self.stringLength)\n",
        "\t\t\ti1 = np.random.randint(self.stringLength)\n",
        "\t\t\tv = population[i][i0]\n",
        "\t\t\tpopulation[i][i0] = population[i][i1]\n",
        "\t\t\tpopulation[i][i1] = v\n",
        "\t\treturn population"
      ]
    },
    {
      "cell_type": "code",
      "execution_count": 8,
      "metadata": {
        "id": "tr3HaFRFOZC3"
      },
      "outputs": [],
      "source": [
        "import pylab as pl\n",
        "def runGA(n,distances):\n",
        "\timport time\n",
        "\n",
        "\tprint (\"\\nAlgoritmo Genético\")\n",
        "\tpl.ion()\n",
        "\tpl.show()\n",
        "\n",
        "\tplotfig = pl.figure()\n",
        "    \n",
        "\tstart = time.time()\n",
        "\tiga = ga(n,distances, nEpochs=20*n,populationSize=20*n,mutationProb=0.01)\n",
        "\tresult = iga.runGA()\n",
        "\tfinish = time.time()    \n",
        "\tprint (\"Ordem:\",result[0],\" Distancia:\",result[1])    \n",
        "\tprint (\"Tempo: \",finish-start)\n",
        "\tpl.ion()    \n",
        "\tpl.plot(result[2],'kx-')"
      ]
    },
    {
      "cell_type": "code",
      "execution_count": 9,
      "metadata": {
        "colab": {
          "base_uri": "https://localhost:8080/",
          "height": 615
        },
        "id": "sR6uOPvnOZC4",
        "outputId": "5301f5d9-5a15-49c6-fd70-c4aae34ff6b8"
      },
      "outputs": [
        {
          "output_type": "stream",
          "name": "stdout",
          "text": [
            "\n",
            "Algoritmo Genético\n"
          ]
        },
        {
          "output_type": "stream",
          "name": "stderr",
          "text": [
            "<ipython-input-7-fc12e487f6bf>:28: DeprecationWarning: `np.int` is a deprecated alias for the builtin `int`. To silence this warning, use `int` by itself. Doing this will not modify any behavior and is safe. When replacing `np.int`, you may wish to use e.g. `np.int64` or `np.int32` to specify the precision. If you wish to review your current use, check the release note link for additional information.\n",
            "Deprecated in NumPy 1.20; for more details and guidance: https://numpy.org/devdocs/release/1.20.0-notes.html#deprecations\n",
            "  self.population = np.zeros((self.populationSize,self.stringLength), dtype=np.int)\n",
            "<ipython-input-7-fc12e487f6bf>:37: DeprecationWarning: `np.int` is a deprecated alias for the builtin `int`. To silence this warning, use `int` by itself. Doing this will not modify any behavior and is safe. When replacing `np.int`, you may wish to use e.g. `np.int64` or `np.int32` to specify the precision. If you wish to review your current use, check the release note link for additional information.\n",
            "Deprecated in NumPy 1.20; for more details and guidance: https://numpy.org/devdocs/release/1.20.0-notes.html#deprecations\n",
            "  best_order = np.zeros((self.nEpochs,self.stringLength), dtype=np.int)\n",
            "<ipython-input-7-fc12e487f6bf>:76: DeprecationWarning: `np.int` is a deprecated alias for the builtin `int`. To silence this warning, use `int` by itself. Doing this will not modify any behavior and is safe. When replacing `np.int`, you may wish to use e.g. `np.int64` or `np.int32` to specify the precision. If you wish to review your current use, check the release note link for additional information.\n",
            "Deprecated in NumPy 1.20; for more details and guidance: https://numpy.org/devdocs/release/1.20.0-notes.html#deprecations\n",
            "  newPopulation = np.kron(np.ones((int(np.round(fitness[j])),1), dtype=np.int),population[j,:])\n",
            "<ipython-input-7-fc12e487f6bf>:81: DeprecationWarning: `np.int` is a deprecated alias for the builtin `int`. To silence this warning, use `int` by itself. Doing this will not modify any behavior and is safe. When replacing `np.int`, you may wish to use e.g. `np.int64` or `np.int32` to specify the precision. If you wish to review your current use, check the release note link for additional information.\n",
            "Deprecated in NumPy 1.20; for more details and guidance: https://numpy.org/devdocs/release/1.20.0-notes.html#deprecations\n",
            "  newPopulation = np.concatenate((newPopulation,np.kron(np.ones((int(np.round(fitness[i])),1), dtype=np.int),population[i,:])),axis=0)\n",
            "<ipython-input-7-fc12e487f6bf>:97: DeprecationWarning: `np.int` is a deprecated alias for the builtin `int`. To silence this warning, use `int` by itself. Doing this will not modify any behavior and is safe. When replacing `np.int`, you may wish to use e.g. `np.int64` or `np.int32` to specify the precision. If you wish to review your current use, check the release note link for additional information.\n",
            "Deprecated in NumPy 1.20; for more details and guidance: https://numpy.org/devdocs/release/1.20.0-notes.html#deprecations\n",
            "  newPopulation = np.zeros(np.shape(population), dtype=np.int)\n"
          ]
        },
        {
          "output_type": "stream",
          "name": "stdout",
          "text": [
            "Ordem: [7 3 1 4 5 2 8 6 0]  Distancia: 6.1277700513570394\n",
            "Tempo:  9.06929326057434\n"
          ]
        },
        {
          "output_type": "display_data",
          "data": {
            "text/plain": [
              "<Figure size 432x288 with 1 Axes>"
            ],
            "image/png": "[encoded data removed]"
          },
          "metadata": {
            "needs_background": "light"
          }
        }
      ],
      "source": [
        "runGA(n,distances)"
      ]
    },
    {
      "cell_type": "code",
      "execution_count": 9,
      "metadata": {
        "id": "HTvlpuzuOZC4"
      },
      "outputs": [],
      "source": []
    }
  ],
  "metadata": {
    "colab": {
      "provenance": []
    },
    "kernelspec": {
      "display_name": "Python 3",
      "language": "python",
      "name": "python3"
    },
    "language_info": {
      "codemirror_mode": {
        "name": "ipython",
        "version": 3
      },
      "file_extension": ".py",
      "mimetype": "text/x-python",
      "name": "python",
      "nbconvert_exporter": "python",
      "pygments_lexer": "ipython3",
      "version": "3.8.5"
    }
  },
  "nbformat": 4,
  "nbformat_minor": 0
}