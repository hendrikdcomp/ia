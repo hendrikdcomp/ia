{
  "cells": [
    {
      "cell_type": "markdown",
      "metadata": {
        "id": "-JB0FFJDqdI_"
      },
      "source": [
        "# Solução do problema Knapsack"
      ]
    },
    {
      "cell_type": "markdown",
      "metadata": {
        "id": "wDEL1nXaqdJF"
      },
      "source": [
        "### Uso de três técnicas diferentes\n",
        "1. Busca exaustiva\n",
        "2. Greedy\n",
        "3. Algoritmos Genéticos"
      ]
    },
    {
      "cell_type": "code",
      "execution_count": null,
      "metadata": {
        "id": "AIEDGVqZqdJG"
      },
      "outputs": [],
      "source": [
        "# Stephen Marsland, 2008, 2014\n",
        "# Adaptação e correção de bugs por Hendrik Macedo, 2017\n",
        "\n",
        "import numpy as np\n",
        "import pylab as pl\n",
        "import time\n",
        "\n",
        "maxSize = 1000    \n",
        "#sizes = np.array([109.60,125.48,52.16,195.55,58.67,61.87,92.95,93.14,155.05,110.89,13.34,132.49,194.03,121.29,179.33,139.02,198.78,192.57,81.66,128.90])\n",
        "sizes = 300*np.random.random_sample(20,)\n",
        "print(sizes)"
      ]
    },
    {
      "cell_type": "markdown",
      "metadata": {
        "id": "eIt2aE4vqdJJ"
      },
      "source": [
        "### Busca exaustiva"
      ]
    },
    {
      "cell_type": "code",
      "execution_count": null,
      "metadata": {
        "id": "BI5sdJRrqdJK"
      },
      "outputs": [],
      "source": [
        "def exhaustive():\n",
        "    start = time.time()\n",
        "    best = 0\n",
        "\n",
        "    twos = np.arange(-len(sizes),0,1)\n",
        "    twos = 2.0**twos\n",
        "    for i in range(2**len(sizes)-1):\n",
        "        string = np.remainder(np.floor(i*twos),2) \n",
        "        fitness = np.sum(string*sizes)\n",
        "        if fitness > best and fitness<maxSize:\n",
        "            best = fitness\n",
        "            bestString = string\n",
        "    finish = time.time()\n",
        "    print (\"Tempo de execução: \",finish-start)\n",
        "    print (\"Maior valor encontrado: \",best)\n",
        "    print (\"Solução correspondente (itens selecionados): \",sizes[bestString>0])\n",
        "          \n",
        "exhaustive()"
      ]
    },
    {
      "cell_type": "markdown",
      "metadata": {
        "id": "DB8LAAMXqdJL"
      },
      "source": [
        "### Greedy"
      ]
    },
    {
      "cell_type": "code",
      "execution_count": null,
      "metadata": {
        "id": "UiU0x0M0qdJL"
      },
      "outputs": [],
      "source": [
        "def greedy():\n",
        "    start = time.time()\n",
        "    sizes.sort()\n",
        "    newSizes = sizes[-1:0:-1]\n",
        "    space = maxSize\n",
        "    \n",
        "    while len(newSizes)>0 and space>newSizes[-1]:\n",
        "        # Pick largest item that will fit\n",
        "        item = np.where(space>newSizes)[0][0]\n",
        "        #print (newSizes[item])\n",
        "        space = space-newSizes[item]\n",
        "        newSizes = np.concatenate((newSizes[:item],newSizes[item+1:]))\n",
        "    finish = time.time()\n",
        "    print (\"Tempo de execução: \",finish-start)\n",
        "    print (\"Maior valor encontrado: = \",maxSize-space)\n",
        "    \n",
        "greedy()"
      ]
    },
    {
      "cell_type": "markdown",
      "metadata": {
        "id": "hUDqHbAJqdJN"
      },
      "source": [
        "### Algoritmos Genéticos"
      ]
    },
    {
      "cell_type": "markdown",
      "metadata": {
        "id": "I2GZ24hXqdJO"
      },
      "source": [
        "#### Fitness"
      ]
    },
    {
      "cell_type": "code",
      "execution_count": null,
      "metadata": {
        "collapsed": true,
        "id": "SEDRfoBzqdJP"
      },
      "outputs": [],
      "source": [
        "def fit(pop):\n",
        "\n",
        "\tfitness = np.sum(sizes*pop,axis=1)\n",
        "\tfitness = np.where(fitness>maxSize,maxSize-2*(fitness-maxSize),fitness)\n",
        "\t\t\n",
        "\treturn fitness"
      ]
    },
    {
      "cell_type": "markdown",
      "metadata": {
        "id": "ynB2XV2NqdJP"
      },
      "source": [
        "#### Algoritmo"
      ]
    },
    {
      "cell_type": "code",
      "execution_count": null,
      "metadata": {
        "collapsed": true,
        "id": "hiooSXb-qdJQ"
      },
      "outputs": [],
      "source": [
        "class ga:\n",
        "\n",
        "\tdef __init__(self,stringLength,nEpochs,populationSize=100,mutationProb=-1,crossover='un',nElite=4,tournament=True):\n",
        "\t\t\"\"\" Constructor\"\"\"\n",
        "\t\tself.stringLength = stringLength\n",
        "\t\t\n",
        "\t\t# Population size should be even\n",
        "\t\tif np.mod(populationSize,2)==0:\n",
        "\t\t\tself.populationSize = populationSize\n",
        "\t\telse:\n",
        "\t\t\tself.populationSize = populationSize+1\n",
        "\t\t\n",
        "\t\tif mutationProb < 0:\n",
        "\t\t\t self.mutationProb = 1/stringLength\n",
        "\t\telse:\n",
        "\t\t\t self.mutationProb = mutationProb\n",
        "\t\t\t \t  \n",
        "\t\tself.nEpochs = nEpochs\n",
        "\n",
        "\t\tself.fitnessFunction = 'fit'\n",
        "\n",
        "\t\tself.crossover = crossover\n",
        "\t\tself.nElite = nElite\n",
        "\t\tself.tournment = tournament\n",
        "\n",
        "\t\tself.population = np.random.rand(self.populationSize,self.stringLength)\n",
        "\t\tself.population = np.where(self.population<0.5,0,1)\n",
        "\t\t\n",
        "\tdef runGA(self,plotfig):\n",
        "\t\t\"\"\"The basic loop\"\"\"\n",
        "\t\tpl.ion()\n",
        "\t\t#plotfig = pl.figure()\n",
        "\t\tbestfit = np.zeros(self.nEpochs)\n",
        "\n",
        "\t\tfor i in range(self.nEpochs):\n",
        "\t\t\t# Compute fitness of the population\n",
        "\t\t\tfitness = eval(self.fitnessFunction)(self.population)\n",
        "\n",
        "\t\t\t# Pick parents -- can do in order since they are randomised\n",
        "\t\t\tnewPopulation = self.fps(self.population,fitness)\n",
        "\n",
        "\t\t\t# Apply the genetic operators\n",
        "\t\t\tif self.crossover == 'sp':\n",
        "\t\t\t\tnewPopulation = self.spCrossover(newPopulation)\n",
        "\t\t\telif self.crossover == 'un':\n",
        "\t\t\t\tnewPopulation = self.uniformCrossover(newPopulation)\n",
        "\t\t\tnewPopulation = self.mutate(newPopulation)\n",
        "\n",
        "\t\t\t# Apply elitism and tournaments if using\n",
        "\t\t\tif self.nElite>0:\n",
        "\t\t\t\tnewPopulation = self.elitism(self.population,newPopulation,fitness)\n",
        "\t\n",
        "\t\t\tif self.tournament:\n",
        "\t\t\t\tnewPopulation = self.tournament(self.population,newPopulation,fitness,self.fitnessFunction)\n",
        "\t\n",
        "\t\t\tself.population = newPopulation\n",
        "\t\t\tbestfit[i] = fitness.max()\n",
        "\n",
        "\t\t\tif (np.mod(i,1)==0):\n",
        "\t\t\t\tprint (i, fitness.max())\t\n",
        "\t\t\t#pl.plot([i],[fitness.max()],'r+')\n",
        "\t\tpl.plot(bestfit,'kx-')\n",
        "\t\t#pl.show()\n",
        "\t\n",
        "\tdef fps(self,population,fitness):\n",
        "\n",
        "\t\t# Scale fitness by total fitness\n",
        "\t\tfitness = fitness/np.sum(fitness)\n",
        "\t\tfitness = 10*fitness/fitness.max()\n",
        "\t\t\n",
        "\t\t# Put repeated copies of each string in according to fitness\n",
        "\t\t# Deal with strings with very low fitness\n",
        "\t\tj=0\n",
        "\t\twhile np.round(fitness[j])<1:\n",
        "\t\t\tj = j+1\n",
        "\t\t\n",
        "\t\tnewPopulation = np.kron(np.ones((int(np.round(fitness[j])),1)),population[j,:])\n",
        "\n",
        "\t\t# Add multiple copies of strings into the newPopulation\n",
        "\t\tfor i in range(j+1,self.populationSize):\n",
        "\t\t\tif np.round(fitness[i])>=1:\n",
        "\t\t\t\tnewPopulation = np.concatenate((newPopulation,np.kron(np.ones((int(np.round(fitness[i])),1)),population[i,:])),axis=0)\n",
        "\n",
        "\t\t# Shuffle the order (note that there are still too many)\n",
        "\t\tindices = list(range(np.shape(newPopulation)[0]))\n",
        "\t\tnp.random.shuffle(indices)\n",
        "\t\tnewPopulation = newPopulation[indices[:self.populationSize],:]\n",
        "\t\treturn newPopulation\t\n",
        "\n",
        "\tdef spCrossover(self,population):\n",
        "\t\t# Single point crossover\n",
        "\t\tnewPopulation = np.zeros(np.shape(population))\n",
        "\t\tcrossoverPoint = np.random.randint(0,self.stringLength,self.populationSize)\n",
        "\t\tfor i in range(0,self.populationSize,2):\n",
        "\t\t\tnewPopulation[i,:crossoverPoint[i]] = population[i,:crossoverPoint[i]]\n",
        "\t\t\tnewPopulation[i+1,:crossoverPoint[i]] = population[i+1,:crossoverPoint[i]]\n",
        "\t\t\tnewPopulation[i,crossoverPoint[i]:] = population[i+1,crossoverPoint[i]:]\n",
        "\t\t\tnewPopulation[i+1,crossoverPoint[i]:] = population[i,crossoverPoint[i]:]\n",
        "\t\treturn newPopulation\n",
        "\n",
        "\tdef uniformCrossover(self,population):\n",
        "\t\t# Uniform crossover\n",
        "\t\tnewPopulation = np.zeros(np.shape(population))\n",
        "\t\twhich = np.random.rand(self.populationSize,self.stringLength)\n",
        "\t\twhich1 = which>=0.5\n",
        "\t\tfor i in range(0,self.populationSize,2):\n",
        "\t\t\tnewPopulation[i,:] = population[i,:]*which1[i,:] + population[i+1,:]*(1-which1[i,:])\n",
        "\t\t\tnewPopulation[i+1,:] = population[i,:]*(1-which1[i,:]) + population[i+1,:]*which1[i,:]\n",
        "\t\treturn newPopulation\n",
        "\t\t\n",
        "\tdef mutate(self,population):\n",
        "\t\t# Mutation\n",
        "\t\twhereMutate = np.random.rand(np.shape(population)[0],np.shape(population)[1])\n",
        "\t\tpopulation[np.where(whereMutate < self.mutationProb)] = 1 - population[np.where(whereMutate < self.mutationProb)]\n",
        "\t\treturn population\n",
        "\n",
        "\tdef elitism(self,oldPopulation,population,fitness):\n",
        "\t\tbest = np.argsort(fitness)\n",
        "\t\tbest = np.squeeze(oldPopulation[best[-self.nElite:],:])\n",
        "\t\tindices = list(range(np.shape(population)[0]))\n",
        "\t\tnp.random.shuffle(indices)\n",
        "\t\tpopulation = population[indices,:]\n",
        "\t\tpopulation[0:self.nElite,:] = best\n",
        "\t\treturn population\n",
        "\n",
        "\tdef tournament(self,oldPopulation,population,fitness,fitnessFunction):\n",
        "\t\tnewFitness = eval(self.fitnessFunction)(population)\n",
        "\t\tfor i in range(0,np.shape(population)[0],2):\n",
        "\t\t\tf = np.concatenate((fitness[i:i+2],newFitness[i:i+2]),axis=0)\n",
        "\t\t\tindices = np.argsort(f)\n",
        "\t\t\tif indices[-1]<2 and indices[-2]<2:\n",
        "\t\t\t\tpopulation[i,:] = oldPopulation[i,:]\n",
        "\t\t\t\tpopulation[i+1,:] = oldPopulation[i+1,:]\n",
        "\t\t\telif indices[-1]<2:\n",
        "\t\t\t\tif indices[0]>=2:\n",
        "\t\t\t\t\tpopulation[i+indices[0]-2,:] = oldPopulation[i+indices[-1]]\n",
        "\t\t\t\telse:\n",
        "\t\t\t\t\tpopulation[i+indices[1]-2,:] = oldPopulation[i+indices[-1]]\n",
        "\t\t\telif indices[-2]<2:\n",
        "\t\t\t\tif indices[0]>=2:\n",
        "\t\t\t\t\tpopulation[i+indices[0]-2,:] = oldPopulation[i+indices[-2]]\n",
        "\t\t\t\telse:\n",
        "\t\t\t\t\tpopulation[i+indices[1]-2,:] = oldPopulation[i+indices[-2]]\n",
        "\t\treturn population"
      ]
    },
    {
      "cell_type": "markdown",
      "metadata": {
        "id": "yX_N8_BiqdJS"
      },
      "source": [
        "#### Execução"
      ]
    },
    {
      "cell_type": "code",
      "execution_count": null,
      "metadata": {
        "id": "I2Je8ZK8qdJT"
      },
      "outputs": [],
      "source": [
        "pl.ion()\n",
        "pl.show()\n",
        "\n",
        "plotfig = pl.figure()\n",
        "start = time.time()\n",
        "ga = ga(20,301,100,-1,'un',4,True)\n",
        "finish = time.time()\n",
        "print (\"Tempo de execução: \",finish-start)\n",
        "ga.runGA(plotfig)"
      ]
    },
    {
      "cell_type": "code",
      "execution_count": null,
      "metadata": {
        "collapsed": true,
        "id": "cF8aKbmiqdJU"
      },
      "outputs": [],
      "source": []
    }
  ],
  "metadata": {
    "kernelspec": {
      "display_name": "Python 3",
      "language": "python",
      "name": "python3"
    },
    "language_info": {
      "codemirror_mode": {
        "name": "ipython",
        "version": 3
      },
      "file_extension": ".py",
      "mimetype": "text/x-python",
      "name": "python",
      "nbconvert_exporter": "python",
      "pygments_lexer": "ipython3",
      "version": "3.6.1"
    },
    "colab": {
      "provenance": []
    }
  },
  "nbformat": 4,
  "nbformat_minor": 0
}